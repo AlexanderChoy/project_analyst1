{
 "cells": [
  {
   "cell_type": "markdown",
   "id": "d51d1b61",
   "metadata": {},
   "source": [
    "***Финальный проект: Игры — Формирование модели монетизации***"
   ]
  },
  {
   "cell_type": "markdown",
   "id": "b8950d2e",
   "metadata": {},
   "source": [
    "*1 Этап. Декомпозиция*"
   ]
  },
  {
   "cell_type": "markdown",
   "id": "dbba8ce1",
   "metadata": {},
   "source": [
    "*Описание проекта*  \n",
    "\n",
    "Команда мобильной игры «Космические братья» планирует реализацию грандиозных планов. Игра уже пользуется большой популярностью — настало время на ней зарабатывать.  \n",
    "Согласно проекту я являюсь аналитиком данной команды.  \n",
    "Основной датасет содержит данные о событиях, совершенных в мобильной игре «Космические братья». В ней пользователи строят свою космическую программу и пытаются преуспеть в нелёгком деле колонизации галактики.  \n",
    "Есть информация о том, откуда приходит трафик пользователей: Инстаграм, Яндекс, Ютуб, Фейсбук (часть компаний запрещены в РФ).\n",
    "Необходимо оценить, какой рекламный источник лучше, чтобы приоритезировать их между собой и распределить бюджет на рекламу.\n",
    "И исследовать модель монетизации, которая заключается в необходимости просмотра видео для совершения действия в игре(постройки здания).  \n",
    "В контексте проекта целевое событие - постройка (для монетизации). Оказывать влияние на количество построек могут: канал привлечения пользователей и \"стратегия\" пользователей.  \n",
    "Стратегии пользователей:  \n",
    "1. Завершил уровень победой над врагом, статус: finished_stage_1;  - стратегия победителя\n",
    "2. Заврешил уровень исследованием, статус: finished_stage_1 + project;  - стратегия исследователя\n",
    "3. Не завершил уровень.  - стратегия в процессе\n",
    "Дополнительная информация:\n",
    "- Результат затрат на рекламу сегодня будет виден только завтра. Т.е. на события за 04.05.2020 будет влиять в том числе реклама за 03.05.2020;\n",
    "- Согласно предлагаемой модели монетизации каждая постройка будет сопровождаться рекламой.\n",
    "- Внедрение рекламы не будет влиять на отток пользователей.\n",
    "- По исслеодовательской стратегии пользователь переходит на следующий уровень после соответствующего согласия или с лагом во времени. То есть статус finished_stage_1 будет следовать за Project через какой-то промежуток времени. \n",
    "- Пропуски в данных восновном обусловлены устройством данных.  \n",
    "- Первая дата первого действия пользователя - есть дата его привлечения.  \n",
    "\n",
    "Гипотезы:\n",
    "1. Исследовательская стратегия в среднем занимает больше времени на прохождение уровня, чем стратегия победителя.\n",
    "2. Пользователи, привлеченные с яндекса, совершили больше построек, чем пользователи, привлеченные с фейсбук. Соответственно, более выгодный канал привлечения.\n",
    "\n",
    "В результате проведенного исследования необходимо ответить на вопросы:  \n",
    "1. Какой рекламный источник лучше. Почему? Привести аргументы. Выгодность, по возможности.\n",
    "2. Какая стратегия предпочтительнее для проекта? Почему? Привести аргументы.\n",
    "Результат исследования необходимо представить в форме презентации (формат PDF)."
   ]
  },
  {
   "cell_type": "markdown",
   "id": "b323c18b",
   "metadata": {},
   "source": [
    "*Этапы проекта*\n",
    "1. Предобработка данных.\n",
    "- привести к удобному для работы виду, в том числе даты;\n",
    "2. Добавить столбец со стратегиями;  \n",
    "3. Объединить разные таблицы в одну, по возможности. \n",
    "4. Определить первую и последнюю дату для каждого пользователя;  определить и вывести средние значения прохождения 1 этапа с точки зрения прибыльности для компании; определить, выгодно ли, чтобы люди не проходили уровень, а оставались на том же.\n",
    "5. Определить \"затратность\" источников привлечения. В сумме, по дням. Кол-во событий стройки, в зависимости от суммы вложенных средств.\n",
    "6. Выдвинуть гипотезы по всем \"нормам\".\n",
    "7. Разбить данные по источникам, проанализировать информацию на предмет среднего количества построек, прохождения уровня;\n",
    "8. Определить среднее количество построек в разбивке по стратегиям.\n",
    "9. Проверить выдвинутые статистические метрики для выдвинутых гипотез. \n",
    "10. Сделать ввыводы. Ответить на вопросы из описания.\n",
    "11. Подготовить датасеты для построения дашбордов (при необходимости).\n",
    "\n",
    "Представить информацию на графиках, где это уместно.\n"
   ]
  },
  {
   "cell_type": "code",
   "execution_count": 1,
   "id": "b552022b",
   "metadata": {},
   "outputs": [],
   "source": [
    "#Импорт рабочих библиотек\n",
    "import pandas as pd #импорт библиотеки pandas для работы\n",
    "import matplotlib.pyplot as plt #для построения графиков\n",
    "import seaborn as sns #для построения красивых графиков \n",
    "import numpy as np #для работы с числовыми преобразованиями\n",
    "from scipy import stats as st\n",
    "import datetime as dt #для работы с датой\n",
    "from datetime import date\n",
    "from datetime import time\n",
    "from pandas.plotting import register_matplotlib_converters\n",
    "import scipy.stats as stats\n",
    "from plotly import graph_objects as go\n",
    "import math as mth"
   ]
  },
  {
   "cell_type": "code",
   "execution_count": 2,
   "id": "f239bb1f",
   "metadata": {},
   "outputs": [],
   "source": [
    "#чтение файлов локально и с сервера\n",
    "try:\n",
    "    df_costs1 = pd.read_csv('/datasets/ad_costs.csv', delimiter = \",\")\n",
    "except:\n",
    "    df_costs1 = pd.read_csv(r'C:\\analyze\\final_project\\ad_costs.csv', delimiter = \",\")\n",
    "\n",
    "try:\n",
    "    df_game_actions1 = pd.read_csv('/datasets/game_actions.csv', delimiter = \",\")\n",
    "except:\n",
    "    df_game_actions1 = pd.read_csv(r'C:\\analyze\\final_project\\game_actions.csv', delimiter = \",\")\n",
    "\n",
    "try:\n",
    "    df_user_source1 = pd.read_csv('/datasets/user_source.csv', delimiter = \",\")\n",
    "except:\n",
    "    df_user_source1 = pd.read_csv(r'C:\\analyze\\final_project\\user_source.csv', delimiter = \",\")"
   ]
  },
  {
   "cell_type": "markdown",
   "id": "db104d00",
   "metadata": {},
   "source": [
    "Выведем результат на экран."
   ]
  },
  {
   "cell_type": "code",
   "execution_count": 3,
   "id": "cb6e6650",
   "metadata": {},
   "outputs": [
    {
     "data": {
      "text/html": [
       "<div>\n",
       "<style scoped>\n",
       "    .dataframe tbody tr th:only-of-type {\n",
       "        vertical-align: middle;\n",
       "    }\n",
       "\n",
       "    .dataframe tbody tr th {\n",
       "        vertical-align: top;\n",
       "    }\n",
       "\n",
       "    .dataframe thead th {\n",
       "        text-align: right;\n",
       "    }\n",
       "</style>\n",
       "<table border=\"1\" class=\"dataframe\">\n",
       "  <thead>\n",
       "    <tr style=\"text-align: right;\">\n",
       "      <th></th>\n",
       "      <th>source</th>\n",
       "      <th>day</th>\n",
       "      <th>cost</th>\n",
       "    </tr>\n",
       "  </thead>\n",
       "  <tbody>\n",
       "    <tr>\n",
       "      <th>0</th>\n",
       "      <td>facebook_ads</td>\n",
       "      <td>2020-05-03</td>\n",
       "      <td>935.882786</td>\n",
       "    </tr>\n",
       "    <tr>\n",
       "      <th>1</th>\n",
       "      <td>facebook_ads</td>\n",
       "      <td>2020-05-04</td>\n",
       "      <td>548.354480</td>\n",
       "    </tr>\n",
       "    <tr>\n",
       "      <th>2</th>\n",
       "      <td>facebook_ads</td>\n",
       "      <td>2020-05-05</td>\n",
       "      <td>260.185754</td>\n",
       "    </tr>\n",
       "    <tr>\n",
       "      <th>3</th>\n",
       "      <td>facebook_ads</td>\n",
       "      <td>2020-05-06</td>\n",
       "      <td>177.982200</td>\n",
       "    </tr>\n",
       "    <tr>\n",
       "      <th>4</th>\n",
       "      <td>facebook_ads</td>\n",
       "      <td>2020-05-07</td>\n",
       "      <td>111.766796</td>\n",
       "    </tr>\n",
       "  </tbody>\n",
       "</table>\n",
       "</div>"
      ],
      "text/plain": [
       "         source         day        cost\n",
       "0  facebook_ads  2020-05-03  935.882786\n",
       "1  facebook_ads  2020-05-04  548.354480\n",
       "2  facebook_ads  2020-05-05  260.185754\n",
       "3  facebook_ads  2020-05-06  177.982200\n",
       "4  facebook_ads  2020-05-07  111.766796"
      ]
     },
     "execution_count": 3,
     "metadata": {},
     "output_type": "execute_result"
    }
   ],
   "source": [
    "df_costs1.head()"
   ]
  },
  {
   "cell_type": "code",
   "execution_count": 4,
   "id": "bb85f3e1",
   "metadata": {},
   "outputs": [
    {
     "data": {
      "text/html": [
       "<div>\n",
       "<style scoped>\n",
       "    .dataframe tbody tr th:only-of-type {\n",
       "        vertical-align: middle;\n",
       "    }\n",
       "\n",
       "    .dataframe tbody tr th {\n",
       "        vertical-align: top;\n",
       "    }\n",
       "\n",
       "    .dataframe thead th {\n",
       "        text-align: right;\n",
       "    }\n",
       "</style>\n",
       "<table border=\"1\" class=\"dataframe\">\n",
       "  <thead>\n",
       "    <tr style=\"text-align: right;\">\n",
       "      <th></th>\n",
       "      <th>event_datetime</th>\n",
       "      <th>event</th>\n",
       "      <th>building_type</th>\n",
       "      <th>user_id</th>\n",
       "      <th>project_type</th>\n",
       "    </tr>\n",
       "  </thead>\n",
       "  <tbody>\n",
       "    <tr>\n",
       "      <th>0</th>\n",
       "      <td>2020-05-04 00:00:01</td>\n",
       "      <td>building</td>\n",
       "      <td>assembly_shop</td>\n",
       "      <td>55e92310-cb8e-4754-b622-597e124b03de</td>\n",
       "      <td>NaN</td>\n",
       "    </tr>\n",
       "    <tr>\n",
       "      <th>1</th>\n",
       "      <td>2020-05-04 00:00:03</td>\n",
       "      <td>building</td>\n",
       "      <td>assembly_shop</td>\n",
       "      <td>c07b1c10-f477-44dc-81dc-ec82254b1347</td>\n",
       "      <td>NaN</td>\n",
       "    </tr>\n",
       "    <tr>\n",
       "      <th>2</th>\n",
       "      <td>2020-05-04 00:00:16</td>\n",
       "      <td>building</td>\n",
       "      <td>assembly_shop</td>\n",
       "      <td>6edd42cc-e753-4ff6-a947-2107cd560710</td>\n",
       "      <td>NaN</td>\n",
       "    </tr>\n",
       "    <tr>\n",
       "      <th>3</th>\n",
       "      <td>2020-05-04 00:00:16</td>\n",
       "      <td>building</td>\n",
       "      <td>assembly_shop</td>\n",
       "      <td>92c69003-d60a-444a-827f-8cc51bf6bf4c</td>\n",
       "      <td>NaN</td>\n",
       "    </tr>\n",
       "    <tr>\n",
       "      <th>4</th>\n",
       "      <td>2020-05-04 00:00:35</td>\n",
       "      <td>building</td>\n",
       "      <td>assembly_shop</td>\n",
       "      <td>cdc6bb92-0ccb-4490-9866-ef142f09139d</td>\n",
       "      <td>NaN</td>\n",
       "    </tr>\n",
       "  </tbody>\n",
       "</table>\n",
       "</div>"
      ],
      "text/plain": [
       "        event_datetime     event  building_type  \\\n",
       "0  2020-05-04 00:00:01  building  assembly_shop   \n",
       "1  2020-05-04 00:00:03  building  assembly_shop   \n",
       "2  2020-05-04 00:00:16  building  assembly_shop   \n",
       "3  2020-05-04 00:00:16  building  assembly_shop   \n",
       "4  2020-05-04 00:00:35  building  assembly_shop   \n",
       "\n",
       "                                user_id project_type  \n",
       "0  55e92310-cb8e-4754-b622-597e124b03de          NaN  \n",
       "1  c07b1c10-f477-44dc-81dc-ec82254b1347          NaN  \n",
       "2  6edd42cc-e753-4ff6-a947-2107cd560710          NaN  \n",
       "3  92c69003-d60a-444a-827f-8cc51bf6bf4c          NaN  \n",
       "4  cdc6bb92-0ccb-4490-9866-ef142f09139d          NaN  "
      ]
     },
     "execution_count": 4,
     "metadata": {},
     "output_type": "execute_result"
    }
   ],
   "source": [
    "df_game_actions1.head()"
   ]
  },
  {
   "cell_type": "code",
   "execution_count": 5,
   "id": "7eea5a7f",
   "metadata": {},
   "outputs": [
    {
     "data": {
      "text/html": [
       "<div>\n",
       "<style scoped>\n",
       "    .dataframe tbody tr th:only-of-type {\n",
       "        vertical-align: middle;\n",
       "    }\n",
       "\n",
       "    .dataframe tbody tr th {\n",
       "        vertical-align: top;\n",
       "    }\n",
       "\n",
       "    .dataframe thead th {\n",
       "        text-align: right;\n",
       "    }\n",
       "</style>\n",
       "<table border=\"1\" class=\"dataframe\">\n",
       "  <thead>\n",
       "    <tr style=\"text-align: right;\">\n",
       "      <th></th>\n",
       "      <th>user_id</th>\n",
       "      <th>source</th>\n",
       "    </tr>\n",
       "  </thead>\n",
       "  <tbody>\n",
       "    <tr>\n",
       "      <th>0</th>\n",
       "      <td>0001f83c-c6ac-4621-b7f0-8a28b283ac30</td>\n",
       "      <td>facebook_ads</td>\n",
       "    </tr>\n",
       "    <tr>\n",
       "      <th>1</th>\n",
       "      <td>00151b4f-ba38-44a8-a650-d7cf130a0105</td>\n",
       "      <td>yandex_direct</td>\n",
       "    </tr>\n",
       "    <tr>\n",
       "      <th>2</th>\n",
       "      <td>001aaea6-3d14-43f1-8ca8-7f48820f17aa</td>\n",
       "      <td>youtube_channel_reklama</td>\n",
       "    </tr>\n",
       "    <tr>\n",
       "      <th>3</th>\n",
       "      <td>001d39dc-366c-4021-9604-6a3b9ff01e25</td>\n",
       "      <td>instagram_new_adverts</td>\n",
       "    </tr>\n",
       "    <tr>\n",
       "      <th>4</th>\n",
       "      <td>002f508f-67b6-479f-814b-b05f00d4e995</td>\n",
       "      <td>facebook_ads</td>\n",
       "    </tr>\n",
       "  </tbody>\n",
       "</table>\n",
       "</div>"
      ],
      "text/plain": [
       "                                user_id                   source\n",
       "0  0001f83c-c6ac-4621-b7f0-8a28b283ac30             facebook_ads\n",
       "1  00151b4f-ba38-44a8-a650-d7cf130a0105            yandex_direct\n",
       "2  001aaea6-3d14-43f1-8ca8-7f48820f17aa  youtube_channel_reklama\n",
       "3  001d39dc-366c-4021-9604-6a3b9ff01e25    instagram_new_adverts\n",
       "4  002f508f-67b6-479f-814b-b05f00d4e995             facebook_ads"
      ]
     },
     "execution_count": 5,
     "metadata": {},
     "output_type": "execute_result"
    }
   ],
   "source": [
    "df_user_source1.head()"
   ]
  },
  {
   "cell_type": "markdown",
   "id": "cbe121e0",
   "metadata": {},
   "source": [
    "1. Предобработка данных.  \n",
    "Предобработка данных включает:  \n",
    "- проверка типа данных;\n",
    "- приведение дат к понятному для питона формату;\n",
    "- проверка дубликатов, их удаление при наличии;\n",
    "- проверка пропусков, их заполнение в случае целесообразности;\n",
    "\n",
    "Из представленных данных отметим, что наименования столбцов соответствуют PEP8."
   ]
  },
  {
   "cell_type": "code",
   "execution_count": 6,
   "id": "adcb8c0a",
   "metadata": {},
   "outputs": [
    {
     "name": "stdout",
     "output_type": "stream",
     "text": [
      "<class 'pandas.core.frame.DataFrame'>\n",
      "RangeIndex: 28 entries, 0 to 27\n",
      "Data columns (total 3 columns):\n",
      " #   Column  Non-Null Count  Dtype  \n",
      "---  ------  --------------  -----  \n",
      " 0   source  28 non-null     object \n",
      " 1   day     28 non-null     object \n",
      " 2   cost    28 non-null     float64\n",
      "dtypes: float64(1), object(2)\n",
      "memory usage: 800.0+ bytes\n",
      "<class 'pandas.core.frame.DataFrame'>\n",
      "RangeIndex: 135640 entries, 0 to 135639\n",
      "Data columns (total 5 columns):\n",
      " #   Column          Non-Null Count   Dtype \n",
      "---  ------          --------------   ----- \n",
      " 0   event_datetime  135640 non-null  object\n",
      " 1   event           135640 non-null  object\n",
      " 2   building_type   127957 non-null  object\n",
      " 3   user_id         135640 non-null  object\n",
      " 4   project_type    1866 non-null    object\n",
      "dtypes: object(5)\n",
      "memory usage: 5.2+ MB\n",
      "<class 'pandas.core.frame.DataFrame'>\n",
      "RangeIndex: 13576 entries, 0 to 13575\n",
      "Data columns (total 2 columns):\n",
      " #   Column   Non-Null Count  Dtype \n",
      "---  ------   --------------  ----- \n",
      " 0   user_id  13576 non-null  object\n",
      " 1   source   13576 non-null  object\n",
      "dtypes: object(2)\n",
      "memory usage: 212.2+ KB\n"
     ]
    }
   ],
   "source": [
    "#Проверим типы данных\n",
    "df_costs1.info()\n",
    "df_game_actions1.info()\n",
    "df_user_source1.info()"
   ]
  },
  {
   "cell_type": "code",
   "execution_count": 7,
   "id": "58fc1c89",
   "metadata": {},
   "outputs": [
    {
     "name": "stdout",
     "output_type": "stream",
     "text": [
      "<class 'pandas.core.frame.DataFrame'>\n",
      "RangeIndex: 135640 entries, 0 to 135639\n",
      "Data columns (total 5 columns):\n",
      " #   Column          Non-Null Count   Dtype         \n",
      "---  ------          --------------   -----         \n",
      " 0   event_datetime  135640 non-null  datetime64[ns]\n",
      " 1   event           135640 non-null  object        \n",
      " 2   building_type   127957 non-null  object        \n",
      " 3   user_id         135640 non-null  object        \n",
      " 4   project_type    1866 non-null    object        \n",
      "dtypes: datetime64[ns](1), object(4)\n",
      "memory usage: 5.2+ MB\n"
     ]
    }
   ],
   "source": [
    "#Изменим тип данных для даты\n",
    "df_game_actions1['event_datetime'] = pd.to_datetime(df_game_actions1['event_datetime'])\n",
    "df_game_actions1.info()"
   ]
  },
  {
   "cell_type": "code",
   "execution_count": 8,
   "id": "67a5d8b9",
   "metadata": {},
   "outputs": [],
   "source": [
    "df_costs1['day'] = pd.to_datetime(df_costs1['day'])"
   ]
  },
  {
   "cell_type": "code",
   "execution_count": 9,
   "id": "eafaedd4",
   "metadata": {},
   "outputs": [
    {
     "data": {
      "text/html": [
       "<div>\n",
       "<style scoped>\n",
       "    .dataframe tbody tr th:only-of-type {\n",
       "        vertical-align: middle;\n",
       "    }\n",
       "\n",
       "    .dataframe tbody tr th {\n",
       "        vertical-align: top;\n",
       "    }\n",
       "\n",
       "    .dataframe thead th {\n",
       "        text-align: right;\n",
       "    }\n",
       "</style>\n",
       "<table border=\"1\" class=\"dataframe\">\n",
       "  <thead>\n",
       "    <tr style=\"text-align: right;\">\n",
       "      <th></th>\n",
       "      <th>source</th>\n",
       "      <th>day</th>\n",
       "      <th>cost</th>\n",
       "    </tr>\n",
       "  </thead>\n",
       "  <tbody>\n",
       "    <tr>\n",
       "      <th>0</th>\n",
       "      <td>facebook_ads</td>\n",
       "      <td>2020-05-03</td>\n",
       "      <td>935.9</td>\n",
       "    </tr>\n",
       "    <tr>\n",
       "      <th>1</th>\n",
       "      <td>facebook_ads</td>\n",
       "      <td>2020-05-04</td>\n",
       "      <td>548.4</td>\n",
       "    </tr>\n",
       "    <tr>\n",
       "      <th>2</th>\n",
       "      <td>facebook_ads</td>\n",
       "      <td>2020-05-05</td>\n",
       "      <td>260.2</td>\n",
       "    </tr>\n",
       "    <tr>\n",
       "      <th>3</th>\n",
       "      <td>facebook_ads</td>\n",
       "      <td>2020-05-06</td>\n",
       "      <td>178.0</td>\n",
       "    </tr>\n",
       "    <tr>\n",
       "      <th>4</th>\n",
       "      <td>facebook_ads</td>\n",
       "      <td>2020-05-07</td>\n",
       "      <td>111.8</td>\n",
       "    </tr>\n",
       "  </tbody>\n",
       "</table>\n",
       "</div>"
      ],
      "text/plain": [
       "         source        day   cost\n",
       "0  facebook_ads 2020-05-03  935.9\n",
       "1  facebook_ads 2020-05-04  548.4\n",
       "2  facebook_ads 2020-05-05  260.2\n",
       "3  facebook_ads 2020-05-06  178.0\n",
       "4  facebook_ads 2020-05-07  111.8"
      ]
     },
     "execution_count": 9,
     "metadata": {},
     "output_type": "execute_result"
    }
   ],
   "source": [
    "#Округлим деньги в данных со стоимостью\n",
    "df_costs1['cost'] = df_costs1['cost'].round(1)\n",
    "df_costs1.head()"
   ]
  },
  {
   "cell_type": "markdown",
   "id": "ed327d47",
   "metadata": {},
   "source": [
    "Проверим дубликаты."
   ]
  },
  {
   "cell_type": "code",
   "execution_count": 10,
   "id": "8d7176a6",
   "metadata": {},
   "outputs": [
    {
     "data": {
      "text/plain": [
       "0"
      ]
     },
     "execution_count": 10,
     "metadata": {},
     "output_type": "execute_result"
    }
   ],
   "source": [
    "df_costs1.duplicated().sum()"
   ]
  },
  {
   "cell_type": "code",
   "execution_count": 11,
   "id": "158a5167",
   "metadata": {},
   "outputs": [
    {
     "data": {
      "text/plain": [
       "1"
      ]
     },
     "execution_count": 11,
     "metadata": {},
     "output_type": "execute_result"
    }
   ],
   "source": [
    "df_game_actions1.duplicated().sum()"
   ]
  },
  {
   "cell_type": "code",
   "execution_count": 12,
   "id": "d119af4e",
   "metadata": {},
   "outputs": [
    {
     "data": {
      "text/plain": [
       "0"
      ]
     },
     "execution_count": 12,
     "metadata": {},
     "output_type": "execute_result"
    }
   ],
   "source": [
    "df_game_actions1 = df_game_actions1.drop_duplicates(keep='first')\n",
    "df_game_actions1.duplicated().sum()"
   ]
  },
  {
   "cell_type": "code",
   "execution_count": 13,
   "id": "dc578bfd",
   "metadata": {},
   "outputs": [
    {
     "data": {
      "text/plain": [
       "0"
      ]
     },
     "execution_count": 13,
     "metadata": {},
     "output_type": "execute_result"
    }
   ],
   "source": [
    "df_user_source1.duplicated().sum()"
   ]
  },
  {
   "cell_type": "code",
   "execution_count": 14,
   "id": "006ff98d",
   "metadata": {},
   "outputs": [
    {
     "name": "stdout",
     "output_type": "stream",
     "text": [
      "event_datetime         0\n",
      "event                  0\n",
      "building_type       7683\n",
      "user_id                0\n",
      "project_type      133773\n",
      "dtype: int64\n"
     ]
    },
    {
     "data": {
      "text/plain": [
       "array(['assembly_shop', 'spaceport', nan, 'research_center'], dtype=object)"
      ]
     },
     "execution_count": 14,
     "metadata": {},
     "output_type": "execute_result"
    }
   ],
   "source": [
    "#Выведем на экран пропуски в датасете, в котором они есть\n",
    "print(df_game_actions1.isna().sum())\n",
    "df_game_actions1.building_type.unique()"
   ]
  },
  {
   "cell_type": "markdown",
   "id": "d9ae19e0",
   "metadata": {},
   "source": [
    "*Пропуски.*  \n",
    "- В df_costs1 пропусков нет.  \n",
    "- В df_game_actions1 пропуски есть.  \n",
    "- В столбце building_type есть пропуск, но он означает, что здание не было построено.  \n",
    "- В столбце project_type данных нет, значит исследование не завершено.  \n",
    "- В df_user_source1 пропусков нет."
   ]
  },
  {
   "cell_type": "markdown",
   "id": "7c316231",
   "metadata": {},
   "source": [
    "1. Вывод.  \n",
    "Данные обработаны, подготовлены для дальнейшего анализа."
   ]
  },
  {
   "cell_type": "markdown",
   "id": "71454945",
   "metadata": {},
   "source": [
    "2. Добавление столбцов для работы"
   ]
  },
  {
   "cell_type": "markdown",
   "id": "3111dcef",
   "metadata": {},
   "source": [
    "Для дальнейшего анализа добавим 3 столбца со счётчиками событий."
   ]
  },
  {
   "cell_type": "code",
   "execution_count": 15,
   "id": "7a93b65b",
   "metadata": {},
   "outputs": [],
   "source": [
    "df_game_actions1['built'] = np.where(df_game_actions1['event']=='building', 1, 0)\n",
    "df_game_actions1['won'] = np.where(df_game_actions1['event']=='finished_stage_1', 1, 0)\n",
    "df_game_actions1['project'] = np.where(df_game_actions1['event']=='project', 1, 0)"
   ]
  },
  {
   "cell_type": "code",
   "execution_count": 16,
   "id": "921a1958",
   "metadata": {},
   "outputs": [
    {
     "data": {
      "text/plain": [
       "array(['building', 'finished_stage_1', 'project'], dtype=object)"
      ]
     },
     "execution_count": 16,
     "metadata": {},
     "output_type": "execute_result"
    }
   ],
   "source": [
    "df_game_actions1.event.unique()"
   ]
  },
  {
   "cell_type": "code",
   "execution_count": 17,
   "id": "c9d55a71",
   "metadata": {},
   "outputs": [
    {
     "data": {
      "text/html": [
       "<div>\n",
       "<style scoped>\n",
       "    .dataframe tbody tr th:only-of-type {\n",
       "        vertical-align: middle;\n",
       "    }\n",
       "\n",
       "    .dataframe tbody tr th {\n",
       "        vertical-align: top;\n",
       "    }\n",
       "\n",
       "    .dataframe thead th {\n",
       "        text-align: right;\n",
       "    }\n",
       "</style>\n",
       "<table border=\"1\" class=\"dataframe\">\n",
       "  <thead>\n",
       "    <tr style=\"text-align: right;\">\n",
       "      <th></th>\n",
       "      <th>event_datetime</th>\n",
       "      <th>event</th>\n",
       "      <th>building_type</th>\n",
       "      <th>user_id</th>\n",
       "      <th>project_type</th>\n",
       "      <th>built</th>\n",
       "      <th>won</th>\n",
       "      <th>project</th>\n",
       "    </tr>\n",
       "  </thead>\n",
       "  <tbody>\n",
       "    <tr>\n",
       "      <th>0</th>\n",
       "      <td>2020-05-04 00:00:01</td>\n",
       "      <td>building</td>\n",
       "      <td>assembly_shop</td>\n",
       "      <td>55e92310-cb8e-4754-b622-597e124b03de</td>\n",
       "      <td>NaN</td>\n",
       "      <td>1</td>\n",
       "      <td>0</td>\n",
       "      <td>0</td>\n",
       "    </tr>\n",
       "    <tr>\n",
       "      <th>1</th>\n",
       "      <td>2020-05-04 00:00:03</td>\n",
       "      <td>building</td>\n",
       "      <td>assembly_shop</td>\n",
       "      <td>c07b1c10-f477-44dc-81dc-ec82254b1347</td>\n",
       "      <td>NaN</td>\n",
       "      <td>1</td>\n",
       "      <td>0</td>\n",
       "      <td>0</td>\n",
       "    </tr>\n",
       "    <tr>\n",
       "      <th>2</th>\n",
       "      <td>2020-05-04 00:00:16</td>\n",
       "      <td>building</td>\n",
       "      <td>assembly_shop</td>\n",
       "      <td>6edd42cc-e753-4ff6-a947-2107cd560710</td>\n",
       "      <td>NaN</td>\n",
       "      <td>1</td>\n",
       "      <td>0</td>\n",
       "      <td>0</td>\n",
       "    </tr>\n",
       "    <tr>\n",
       "      <th>3</th>\n",
       "      <td>2020-05-04 00:00:16</td>\n",
       "      <td>building</td>\n",
       "      <td>assembly_shop</td>\n",
       "      <td>92c69003-d60a-444a-827f-8cc51bf6bf4c</td>\n",
       "      <td>NaN</td>\n",
       "      <td>1</td>\n",
       "      <td>0</td>\n",
       "      <td>0</td>\n",
       "    </tr>\n",
       "    <tr>\n",
       "      <th>4</th>\n",
       "      <td>2020-05-04 00:00:35</td>\n",
       "      <td>building</td>\n",
       "      <td>assembly_shop</td>\n",
       "      <td>cdc6bb92-0ccb-4490-9866-ef142f09139d</td>\n",
       "      <td>NaN</td>\n",
       "      <td>1</td>\n",
       "      <td>0</td>\n",
       "      <td>0</td>\n",
       "    </tr>\n",
       "  </tbody>\n",
       "</table>\n",
       "</div>"
      ],
      "text/plain": [
       "       event_datetime     event  building_type  \\\n",
       "0 2020-05-04 00:00:01  building  assembly_shop   \n",
       "1 2020-05-04 00:00:03  building  assembly_shop   \n",
       "2 2020-05-04 00:00:16  building  assembly_shop   \n",
       "3 2020-05-04 00:00:16  building  assembly_shop   \n",
       "4 2020-05-04 00:00:35  building  assembly_shop   \n",
       "\n",
       "                                user_id project_type  built  won  project  \n",
       "0  55e92310-cb8e-4754-b622-597e124b03de          NaN      1    0        0  \n",
       "1  c07b1c10-f477-44dc-81dc-ec82254b1347          NaN      1    0        0  \n",
       "2  6edd42cc-e753-4ff6-a947-2107cd560710          NaN      1    0        0  \n",
       "3  92c69003-d60a-444a-827f-8cc51bf6bf4c          NaN      1    0        0  \n",
       "4  cdc6bb92-0ccb-4490-9866-ef142f09139d          NaN      1    0        0  "
      ]
     },
     "execution_count": 17,
     "metadata": {},
     "output_type": "execute_result"
    }
   ],
   "source": [
    "df_game_actions1.head()"
   ]
  },
  {
   "cell_type": "markdown",
   "id": "8a149bc9",
   "metadata": {},
   "source": [
    "3. Объединим две таблицы для дальнейшего анализа"
   ]
  },
  {
   "cell_type": "code",
   "execution_count": 18,
   "id": "f205ba70",
   "metadata": {},
   "outputs": [],
   "source": [
    "df_game = pd.merge(\n",
    "    df_game_actions1, df_user_source1,\n",
    "    left_on='user_id',\n",
    "    right_on='user_id',\n",
    "    how='left'\n",
    ")"
   ]
  },
  {
   "cell_type": "code",
   "execution_count": 19,
   "id": "91054a44",
   "metadata": {},
   "outputs": [
    {
     "data": {
      "text/html": [
       "<div>\n",
       "<style scoped>\n",
       "    .dataframe tbody tr th:only-of-type {\n",
       "        vertical-align: middle;\n",
       "    }\n",
       "\n",
       "    .dataframe tbody tr th {\n",
       "        vertical-align: top;\n",
       "    }\n",
       "\n",
       "    .dataframe thead th {\n",
       "        text-align: right;\n",
       "    }\n",
       "</style>\n",
       "<table border=\"1\" class=\"dataframe\">\n",
       "  <thead>\n",
       "    <tr style=\"text-align: right;\">\n",
       "      <th></th>\n",
       "      <th>event_datetime</th>\n",
       "      <th>event</th>\n",
       "      <th>building_type</th>\n",
       "      <th>user_id</th>\n",
       "      <th>project_type</th>\n",
       "      <th>built</th>\n",
       "      <th>won</th>\n",
       "      <th>project</th>\n",
       "      <th>source</th>\n",
       "    </tr>\n",
       "  </thead>\n",
       "  <tbody>\n",
       "    <tr>\n",
       "      <th>0</th>\n",
       "      <td>2020-05-04 00:00:01</td>\n",
       "      <td>building</td>\n",
       "      <td>assembly_shop</td>\n",
       "      <td>55e92310-cb8e-4754-b622-597e124b03de</td>\n",
       "      <td>NaN</td>\n",
       "      <td>1</td>\n",
       "      <td>0</td>\n",
       "      <td>0</td>\n",
       "      <td>youtube_channel_reklama</td>\n",
       "    </tr>\n",
       "    <tr>\n",
       "      <th>1</th>\n",
       "      <td>2020-05-04 00:00:03</td>\n",
       "      <td>building</td>\n",
       "      <td>assembly_shop</td>\n",
       "      <td>c07b1c10-f477-44dc-81dc-ec82254b1347</td>\n",
       "      <td>NaN</td>\n",
       "      <td>1</td>\n",
       "      <td>0</td>\n",
       "      <td>0</td>\n",
       "      <td>facebook_ads</td>\n",
       "    </tr>\n",
       "    <tr>\n",
       "      <th>2</th>\n",
       "      <td>2020-05-04 00:00:16</td>\n",
       "      <td>building</td>\n",
       "      <td>assembly_shop</td>\n",
       "      <td>6edd42cc-e753-4ff6-a947-2107cd560710</td>\n",
       "      <td>NaN</td>\n",
       "      <td>1</td>\n",
       "      <td>0</td>\n",
       "      <td>0</td>\n",
       "      <td>instagram_new_adverts</td>\n",
       "    </tr>\n",
       "    <tr>\n",
       "      <th>3</th>\n",
       "      <td>2020-05-04 00:00:16</td>\n",
       "      <td>building</td>\n",
       "      <td>assembly_shop</td>\n",
       "      <td>92c69003-d60a-444a-827f-8cc51bf6bf4c</td>\n",
       "      <td>NaN</td>\n",
       "      <td>1</td>\n",
       "      <td>0</td>\n",
       "      <td>0</td>\n",
       "      <td>facebook_ads</td>\n",
       "    </tr>\n",
       "    <tr>\n",
       "      <th>4</th>\n",
       "      <td>2020-05-04 00:00:35</td>\n",
       "      <td>building</td>\n",
       "      <td>assembly_shop</td>\n",
       "      <td>cdc6bb92-0ccb-4490-9866-ef142f09139d</td>\n",
       "      <td>NaN</td>\n",
       "      <td>1</td>\n",
       "      <td>0</td>\n",
       "      <td>0</td>\n",
       "      <td>yandex_direct</td>\n",
       "    </tr>\n",
       "  </tbody>\n",
       "</table>\n",
       "</div>"
      ],
      "text/plain": [
       "       event_datetime     event  building_type  \\\n",
       "0 2020-05-04 00:00:01  building  assembly_shop   \n",
       "1 2020-05-04 00:00:03  building  assembly_shop   \n",
       "2 2020-05-04 00:00:16  building  assembly_shop   \n",
       "3 2020-05-04 00:00:16  building  assembly_shop   \n",
       "4 2020-05-04 00:00:35  building  assembly_shop   \n",
       "\n",
       "                                user_id project_type  built  won  project  \\\n",
       "0  55e92310-cb8e-4754-b622-597e124b03de          NaN      1    0        0   \n",
       "1  c07b1c10-f477-44dc-81dc-ec82254b1347          NaN      1    0        0   \n",
       "2  6edd42cc-e753-4ff6-a947-2107cd560710          NaN      1    0        0   \n",
       "3  92c69003-d60a-444a-827f-8cc51bf6bf4c          NaN      1    0        0   \n",
       "4  cdc6bb92-0ccb-4490-9866-ef142f09139d          NaN      1    0        0   \n",
       "\n",
       "                    source  \n",
       "0  youtube_channel_reklama  \n",
       "1             facebook_ads  \n",
       "2    instagram_new_adverts  \n",
       "3             facebook_ads  \n",
       "4            yandex_direct  "
      ]
     },
     "execution_count": 19,
     "metadata": {},
     "output_type": "execute_result"
    }
   ],
   "source": [
    "df_game.head()"
   ]
  },
  {
   "cell_type": "code",
   "execution_count": 20,
   "id": "fc541d19",
   "metadata": {},
   "outputs": [
    {
     "name": "stdout",
     "output_type": "stream",
     "text": [
      "<class 'pandas.core.frame.DataFrame'>\n",
      "Int64Index: 135639 entries, 0 to 135638\n",
      "Data columns (total 9 columns):\n",
      " #   Column          Non-Null Count   Dtype         \n",
      "---  ------          --------------   -----         \n",
      " 0   event_datetime  135639 non-null  datetime64[ns]\n",
      " 1   event           135639 non-null  object        \n",
      " 2   building_type   127956 non-null  object        \n",
      " 3   user_id         135639 non-null  object        \n",
      " 4   project_type    1866 non-null    object        \n",
      " 5   built           135639 non-null  int32         \n",
      " 6   won             135639 non-null  int32         \n",
      " 7   project         135639 non-null  int32         \n",
      " 8   source          135639 non-null  object        \n",
      "dtypes: datetime64[ns](1), int32(3), object(5)\n",
      "memory usage: 8.8+ MB\n"
     ]
    }
   ],
   "source": [
    "df_game.info()"
   ]
  },
  {
   "cell_type": "markdown",
   "id": "430c4e88",
   "metadata": {},
   "source": [
    "4.1 Определим период действий пользователей"
   ]
  },
  {
   "cell_type": "code",
   "execution_count": 21,
   "id": "3aceca9b",
   "metadata": {},
   "outputs": [],
   "source": [
    "#Сгрупируем по пользователям, определим мин и макс время пользователя\n",
    "df=df_game.groupby('user_id', as_index=False).agg({'built':'sum', 'won':'sum', 'project':'sum',\\\n",
    "                                                   'event_datetime': ['min', 'max']})\n",
    "df.columns = [tup[0] if tup[1] else tup[0] for tup in df.columns]\n",
    "df.columns = ['user_id', 'built', 'won', 'project', 'dt_min', 'dt_max']"
   ]
  },
  {
   "cell_type": "code",
   "execution_count": 22,
   "id": "e2ee235d",
   "metadata": {},
   "outputs": [
    {
     "data": {
      "text/html": [
       "<div>\n",
       "<style scoped>\n",
       "    .dataframe tbody tr th:only-of-type {\n",
       "        vertical-align: middle;\n",
       "    }\n",
       "\n",
       "    .dataframe tbody tr th {\n",
       "        vertical-align: top;\n",
       "    }\n",
       "\n",
       "    .dataframe thead th {\n",
       "        text-align: right;\n",
       "    }\n",
       "</style>\n",
       "<table border=\"1\" class=\"dataframe\">\n",
       "  <thead>\n",
       "    <tr style=\"text-align: right;\">\n",
       "      <th></th>\n",
       "      <th>user_id</th>\n",
       "      <th>built</th>\n",
       "      <th>won</th>\n",
       "      <th>project</th>\n",
       "      <th>dt_min</th>\n",
       "      <th>dt_max</th>\n",
       "    </tr>\n",
       "  </thead>\n",
       "  <tbody>\n",
       "    <tr>\n",
       "      <th>0</th>\n",
       "      <td>0001f83c-c6ac-4621-b7f0-8a28b283ac30</td>\n",
       "      <td>13</td>\n",
       "      <td>0</td>\n",
       "      <td>0</td>\n",
       "      <td>2020-05-06 01:07:37</td>\n",
       "      <td>2020-05-20 11:26:06</td>\n",
       "    </tr>\n",
       "    <tr>\n",
       "      <th>1</th>\n",
       "      <td>00151b4f-ba38-44a8-a650-d7cf130a0105</td>\n",
       "      <td>9</td>\n",
       "      <td>0</td>\n",
       "      <td>0</td>\n",
       "      <td>2020-05-06 03:09:12</td>\n",
       "      <td>2020-05-18 10:46:52</td>\n",
       "    </tr>\n",
       "    <tr>\n",
       "      <th>2</th>\n",
       "      <td>001aaea6-3d14-43f1-8ca8-7f48820f17aa</td>\n",
       "      <td>4</td>\n",
       "      <td>0</td>\n",
       "      <td>0</td>\n",
       "      <td>2020-05-05 18:08:52</td>\n",
       "      <td>2020-05-14 09:21:27</td>\n",
       "    </tr>\n",
       "    <tr>\n",
       "      <th>3</th>\n",
       "      <td>001d39dc-366c-4021-9604-6a3b9ff01e25</td>\n",
       "      <td>8</td>\n",
       "      <td>1</td>\n",
       "      <td>0</td>\n",
       "      <td>2020-05-05 21:02:05</td>\n",
       "      <td>2020-05-12 07:40:47</td>\n",
       "    </tr>\n",
       "    <tr>\n",
       "      <th>4</th>\n",
       "      <td>002f508f-67b6-479f-814b-b05f00d4e995</td>\n",
       "      <td>12</td>\n",
       "      <td>0</td>\n",
       "      <td>0</td>\n",
       "      <td>2020-05-05 13:49:58</td>\n",
       "      <td>2020-05-22 02:46:45</td>\n",
       "    </tr>\n",
       "  </tbody>\n",
       "</table>\n",
       "</div>"
      ],
      "text/plain": [
       "                                user_id  built  won  project  \\\n",
       "0  0001f83c-c6ac-4621-b7f0-8a28b283ac30     13    0        0   \n",
       "1  00151b4f-ba38-44a8-a650-d7cf130a0105      9    0        0   \n",
       "2  001aaea6-3d14-43f1-8ca8-7f48820f17aa      4    0        0   \n",
       "3  001d39dc-366c-4021-9604-6a3b9ff01e25      8    1        0   \n",
       "4  002f508f-67b6-479f-814b-b05f00d4e995     12    0        0   \n",
       "\n",
       "               dt_min              dt_max  \n",
       "0 2020-05-06 01:07:37 2020-05-20 11:26:06  \n",
       "1 2020-05-06 03:09:12 2020-05-18 10:46:52  \n",
       "2 2020-05-05 18:08:52 2020-05-14 09:21:27  \n",
       "3 2020-05-05 21:02:05 2020-05-12 07:40:47  \n",
       "4 2020-05-05 13:49:58 2020-05-22 02:46:45  "
      ]
     },
     "execution_count": 22,
     "metadata": {},
     "output_type": "execute_result"
    }
   ],
   "source": [
    "df.head()"
   ]
  },
  {
   "cell_type": "code",
   "execution_count": 23,
   "id": "470237b8",
   "metadata": {},
   "outputs": [],
   "source": [
    "#Добавим столбец с периодом жизни пользователя в минутах\n",
    "df['dt_delta'] = ((df['dt_max']-df['dt_min']).dt.total_seconds()/60).round(2)"
   ]
  },
  {
   "cell_type": "code",
   "execution_count": 24,
   "id": "5a02c3c0",
   "metadata": {},
   "outputs": [
    {
     "data": {
      "text/html": [
       "<div>\n",
       "<style scoped>\n",
       "    .dataframe tbody tr th:only-of-type {\n",
       "        vertical-align: middle;\n",
       "    }\n",
       "\n",
       "    .dataframe tbody tr th {\n",
       "        vertical-align: top;\n",
       "    }\n",
       "\n",
       "    .dataframe thead th {\n",
       "        text-align: right;\n",
       "    }\n",
       "</style>\n",
       "<table border=\"1\" class=\"dataframe\">\n",
       "  <thead>\n",
       "    <tr style=\"text-align: right;\">\n",
       "      <th></th>\n",
       "      <th>user_id</th>\n",
       "      <th>built</th>\n",
       "      <th>won</th>\n",
       "      <th>project</th>\n",
       "      <th>dt_min</th>\n",
       "      <th>dt_max</th>\n",
       "      <th>dt_delta</th>\n",
       "    </tr>\n",
       "  </thead>\n",
       "  <tbody>\n",
       "    <tr>\n",
       "      <th>0</th>\n",
       "      <td>0001f83c-c6ac-4621-b7f0-8a28b283ac30</td>\n",
       "      <td>13</td>\n",
       "      <td>0</td>\n",
       "      <td>0</td>\n",
       "      <td>2020-05-06 01:07:37</td>\n",
       "      <td>2020-05-20 11:26:06</td>\n",
       "      <td>20778.48</td>\n",
       "    </tr>\n",
       "    <tr>\n",
       "      <th>1</th>\n",
       "      <td>00151b4f-ba38-44a8-a650-d7cf130a0105</td>\n",
       "      <td>9</td>\n",
       "      <td>0</td>\n",
       "      <td>0</td>\n",
       "      <td>2020-05-06 03:09:12</td>\n",
       "      <td>2020-05-18 10:46:52</td>\n",
       "      <td>17737.67</td>\n",
       "    </tr>\n",
       "    <tr>\n",
       "      <th>2</th>\n",
       "      <td>001aaea6-3d14-43f1-8ca8-7f48820f17aa</td>\n",
       "      <td>4</td>\n",
       "      <td>0</td>\n",
       "      <td>0</td>\n",
       "      <td>2020-05-05 18:08:52</td>\n",
       "      <td>2020-05-14 09:21:27</td>\n",
       "      <td>12432.58</td>\n",
       "    </tr>\n",
       "    <tr>\n",
       "      <th>3</th>\n",
       "      <td>001d39dc-366c-4021-9604-6a3b9ff01e25</td>\n",
       "      <td>8</td>\n",
       "      <td>1</td>\n",
       "      <td>0</td>\n",
       "      <td>2020-05-05 21:02:05</td>\n",
       "      <td>2020-05-12 07:40:47</td>\n",
       "      <td>9278.70</td>\n",
       "    </tr>\n",
       "    <tr>\n",
       "      <th>4</th>\n",
       "      <td>002f508f-67b6-479f-814b-b05f00d4e995</td>\n",
       "      <td>12</td>\n",
       "      <td>0</td>\n",
       "      <td>0</td>\n",
       "      <td>2020-05-05 13:49:58</td>\n",
       "      <td>2020-05-22 02:46:45</td>\n",
       "      <td>23816.78</td>\n",
       "    </tr>\n",
       "  </tbody>\n",
       "</table>\n",
       "</div>"
      ],
      "text/plain": [
       "                                user_id  built  won  project  \\\n",
       "0  0001f83c-c6ac-4621-b7f0-8a28b283ac30     13    0        0   \n",
       "1  00151b4f-ba38-44a8-a650-d7cf130a0105      9    0        0   \n",
       "2  001aaea6-3d14-43f1-8ca8-7f48820f17aa      4    0        0   \n",
       "3  001d39dc-366c-4021-9604-6a3b9ff01e25      8    1        0   \n",
       "4  002f508f-67b6-479f-814b-b05f00d4e995     12    0        0   \n",
       "\n",
       "               dt_min              dt_max  dt_delta  \n",
       "0 2020-05-06 01:07:37 2020-05-20 11:26:06  20778.48  \n",
       "1 2020-05-06 03:09:12 2020-05-18 10:46:52  17737.67  \n",
       "2 2020-05-05 18:08:52 2020-05-14 09:21:27  12432.58  \n",
       "3 2020-05-05 21:02:05 2020-05-12 07:40:47   9278.70  \n",
       "4 2020-05-05 13:49:58 2020-05-22 02:46:45  23816.78  "
      ]
     },
     "execution_count": 24,
     "metadata": {},
     "output_type": "execute_result"
    }
   ],
   "source": [
    "df.head()"
   ]
  },
  {
   "cell_type": "markdown",
   "id": "2acd0f9c",
   "metadata": {},
   "source": [
    "4.2. Добавим столбец со стратегиями"
   ]
  },
  {
   "cell_type": "code",
   "execution_count": 25,
   "id": "b1562425",
   "metadata": {},
   "outputs": [],
   "source": [
    "#Определим функцию для категоризации\n",
    "def category(won, project):\n",
    "    if won==1 and project==0:\n",
    "        return 1\n",
    "    elif won==1 and project==1:\n",
    "        return 2\n",
    "    else:\n",
    "        return 3"
   ]
  },
  {
   "cell_type": "code",
   "execution_count": 26,
   "id": "7f54aa8e",
   "metadata": {},
   "outputs": [
    {
     "data": {
      "text/html": [
       "<div>\n",
       "<style scoped>\n",
       "    .dataframe tbody tr th:only-of-type {\n",
       "        vertical-align: middle;\n",
       "    }\n",
       "\n",
       "    .dataframe tbody tr th {\n",
       "        vertical-align: top;\n",
       "    }\n",
       "\n",
       "    .dataframe thead th {\n",
       "        text-align: right;\n",
       "    }\n",
       "</style>\n",
       "<table border=\"1\" class=\"dataframe\">\n",
       "  <thead>\n",
       "    <tr style=\"text-align: right;\">\n",
       "      <th></th>\n",
       "      <th>user_id</th>\n",
       "      <th>built</th>\n",
       "      <th>won</th>\n",
       "      <th>project</th>\n",
       "      <th>dt_min</th>\n",
       "      <th>dt_max</th>\n",
       "      <th>dt_delta</th>\n",
       "      <th>strategy</th>\n",
       "    </tr>\n",
       "  </thead>\n",
       "  <tbody>\n",
       "    <tr>\n",
       "      <th>0</th>\n",
       "      <td>0001f83c-c6ac-4621-b7f0-8a28b283ac30</td>\n",
       "      <td>13</td>\n",
       "      <td>0</td>\n",
       "      <td>0</td>\n",
       "      <td>2020-05-06 01:07:37</td>\n",
       "      <td>2020-05-20 11:26:06</td>\n",
       "      <td>20778.48</td>\n",
       "      <td>3</td>\n",
       "    </tr>\n",
       "    <tr>\n",
       "      <th>1</th>\n",
       "      <td>00151b4f-ba38-44a8-a650-d7cf130a0105</td>\n",
       "      <td>9</td>\n",
       "      <td>0</td>\n",
       "      <td>0</td>\n",
       "      <td>2020-05-06 03:09:12</td>\n",
       "      <td>2020-05-18 10:46:52</td>\n",
       "      <td>17737.67</td>\n",
       "      <td>3</td>\n",
       "    </tr>\n",
       "    <tr>\n",
       "      <th>2</th>\n",
       "      <td>001aaea6-3d14-43f1-8ca8-7f48820f17aa</td>\n",
       "      <td>4</td>\n",
       "      <td>0</td>\n",
       "      <td>0</td>\n",
       "      <td>2020-05-05 18:08:52</td>\n",
       "      <td>2020-05-14 09:21:27</td>\n",
       "      <td>12432.58</td>\n",
       "      <td>3</td>\n",
       "    </tr>\n",
       "    <tr>\n",
       "      <th>3</th>\n",
       "      <td>001d39dc-366c-4021-9604-6a3b9ff01e25</td>\n",
       "      <td>8</td>\n",
       "      <td>1</td>\n",
       "      <td>0</td>\n",
       "      <td>2020-05-05 21:02:05</td>\n",
       "      <td>2020-05-12 07:40:47</td>\n",
       "      <td>9278.70</td>\n",
       "      <td>1</td>\n",
       "    </tr>\n",
       "    <tr>\n",
       "      <th>4</th>\n",
       "      <td>002f508f-67b6-479f-814b-b05f00d4e995</td>\n",
       "      <td>12</td>\n",
       "      <td>0</td>\n",
       "      <td>0</td>\n",
       "      <td>2020-05-05 13:49:58</td>\n",
       "      <td>2020-05-22 02:46:45</td>\n",
       "      <td>23816.78</td>\n",
       "      <td>3</td>\n",
       "    </tr>\n",
       "  </tbody>\n",
       "</table>\n",
       "</div>"
      ],
      "text/plain": [
       "                                user_id  built  won  project  \\\n",
       "0  0001f83c-c6ac-4621-b7f0-8a28b283ac30     13    0        0   \n",
       "1  00151b4f-ba38-44a8-a650-d7cf130a0105      9    0        0   \n",
       "2  001aaea6-3d14-43f1-8ca8-7f48820f17aa      4    0        0   \n",
       "3  001d39dc-366c-4021-9604-6a3b9ff01e25      8    1        0   \n",
       "4  002f508f-67b6-479f-814b-b05f00d4e995     12    0        0   \n",
       "\n",
       "               dt_min              dt_max  dt_delta  strategy  \n",
       "0 2020-05-06 01:07:37 2020-05-20 11:26:06  20778.48         3  \n",
       "1 2020-05-06 03:09:12 2020-05-18 10:46:52  17737.67         3  \n",
       "2 2020-05-05 18:08:52 2020-05-14 09:21:27  12432.58         3  \n",
       "3 2020-05-05 21:02:05 2020-05-12 07:40:47   9278.70         1  \n",
       "4 2020-05-05 13:49:58 2020-05-22 02:46:45  23816.78         3  "
      ]
     },
     "execution_count": 26,
     "metadata": {},
     "output_type": "execute_result"
    }
   ],
   "source": [
    "df['strategy'] = df.apply(lambda x: category(x['won'], x['project']), axis=1)\n",
    "df.head()"
   ]
  },
  {
   "cell_type": "markdown",
   "id": "4428c532",
   "metadata": {},
   "source": [
    "Добавим источник пользователей и получим итоговый датафрейм для работы."
   ]
  },
  {
   "cell_type": "code",
   "execution_count": 27,
   "id": "ba75eb62",
   "metadata": {},
   "outputs": [],
   "source": [
    "df_2 = pd.merge(\n",
    "    df, df_user_source1,\n",
    "    left_on='user_id',\n",
    "    right_on='user_id',\n",
    "    how='left'\n",
    ")"
   ]
  },
  {
   "cell_type": "code",
   "execution_count": 28,
   "id": "49a2dd70",
   "metadata": {},
   "outputs": [
    {
     "data": {
      "text/html": [
       "<div>\n",
       "<style scoped>\n",
       "    .dataframe tbody tr th:only-of-type {\n",
       "        vertical-align: middle;\n",
       "    }\n",
       "\n",
       "    .dataframe tbody tr th {\n",
       "        vertical-align: top;\n",
       "    }\n",
       "\n",
       "    .dataframe thead th {\n",
       "        text-align: right;\n",
       "    }\n",
       "</style>\n",
       "<table border=\"1\" class=\"dataframe\">\n",
       "  <thead>\n",
       "    <tr style=\"text-align: right;\">\n",
       "      <th></th>\n",
       "      <th>user_id</th>\n",
       "      <th>built</th>\n",
       "      <th>won</th>\n",
       "      <th>project</th>\n",
       "      <th>dt_min</th>\n",
       "      <th>dt_max</th>\n",
       "      <th>dt_delta</th>\n",
       "      <th>strategy</th>\n",
       "      <th>source</th>\n",
       "    </tr>\n",
       "  </thead>\n",
       "  <tbody>\n",
       "    <tr>\n",
       "      <th>0</th>\n",
       "      <td>0001f83c-c6ac-4621-b7f0-8a28b283ac30</td>\n",
       "      <td>13</td>\n",
       "      <td>0</td>\n",
       "      <td>0</td>\n",
       "      <td>2020-05-06 01:07:37</td>\n",
       "      <td>2020-05-20 11:26:06</td>\n",
       "      <td>20778.48</td>\n",
       "      <td>3</td>\n",
       "      <td>facebook_ads</td>\n",
       "    </tr>\n",
       "    <tr>\n",
       "      <th>1</th>\n",
       "      <td>00151b4f-ba38-44a8-a650-d7cf130a0105</td>\n",
       "      <td>9</td>\n",
       "      <td>0</td>\n",
       "      <td>0</td>\n",
       "      <td>2020-05-06 03:09:12</td>\n",
       "      <td>2020-05-18 10:46:52</td>\n",
       "      <td>17737.67</td>\n",
       "      <td>3</td>\n",
       "      <td>yandex_direct</td>\n",
       "    </tr>\n",
       "    <tr>\n",
       "      <th>2</th>\n",
       "      <td>001aaea6-3d14-43f1-8ca8-7f48820f17aa</td>\n",
       "      <td>4</td>\n",
       "      <td>0</td>\n",
       "      <td>0</td>\n",
       "      <td>2020-05-05 18:08:52</td>\n",
       "      <td>2020-05-14 09:21:27</td>\n",
       "      <td>12432.58</td>\n",
       "      <td>3</td>\n",
       "      <td>youtube_channel_reklama</td>\n",
       "    </tr>\n",
       "    <tr>\n",
       "      <th>3</th>\n",
       "      <td>001d39dc-366c-4021-9604-6a3b9ff01e25</td>\n",
       "      <td>8</td>\n",
       "      <td>1</td>\n",
       "      <td>0</td>\n",
       "      <td>2020-05-05 21:02:05</td>\n",
       "      <td>2020-05-12 07:40:47</td>\n",
       "      <td>9278.70</td>\n",
       "      <td>1</td>\n",
       "      <td>instagram_new_adverts</td>\n",
       "    </tr>\n",
       "    <tr>\n",
       "      <th>4</th>\n",
       "      <td>002f508f-67b6-479f-814b-b05f00d4e995</td>\n",
       "      <td>12</td>\n",
       "      <td>0</td>\n",
       "      <td>0</td>\n",
       "      <td>2020-05-05 13:49:58</td>\n",
       "      <td>2020-05-22 02:46:45</td>\n",
       "      <td>23816.78</td>\n",
       "      <td>3</td>\n",
       "      <td>facebook_ads</td>\n",
       "    </tr>\n",
       "  </tbody>\n",
       "</table>\n",
       "</div>"
      ],
      "text/plain": [
       "                                user_id  built  won  project  \\\n",
       "0  0001f83c-c6ac-4621-b7f0-8a28b283ac30     13    0        0   \n",
       "1  00151b4f-ba38-44a8-a650-d7cf130a0105      9    0        0   \n",
       "2  001aaea6-3d14-43f1-8ca8-7f48820f17aa      4    0        0   \n",
       "3  001d39dc-366c-4021-9604-6a3b9ff01e25      8    1        0   \n",
       "4  002f508f-67b6-479f-814b-b05f00d4e995     12    0        0   \n",
       "\n",
       "               dt_min              dt_max  dt_delta  strategy  \\\n",
       "0 2020-05-06 01:07:37 2020-05-20 11:26:06  20778.48         3   \n",
       "1 2020-05-06 03:09:12 2020-05-18 10:46:52  17737.67         3   \n",
       "2 2020-05-05 18:08:52 2020-05-14 09:21:27  12432.58         3   \n",
       "3 2020-05-05 21:02:05 2020-05-12 07:40:47   9278.70         1   \n",
       "4 2020-05-05 13:49:58 2020-05-22 02:46:45  23816.78         3   \n",
       "\n",
       "                    source  \n",
       "0             facebook_ads  \n",
       "1            yandex_direct  \n",
       "2  youtube_channel_reklama  \n",
       "3    instagram_new_adverts  \n",
       "4             facebook_ads  "
      ]
     },
     "execution_count": 28,
     "metadata": {},
     "output_type": "execute_result"
    }
   ],
   "source": [
    "df_2.head()"
   ]
  },
  {
   "cell_type": "markdown",
   "id": "c317804c",
   "metadata": {},
   "source": [
    "4.3. Исследуем среднее количество построек"
   ]
  },
  {
   "cell_type": "code",
   "execution_count": 29,
   "id": "a3b91463",
   "metadata": {},
   "outputs": [
    {
     "data": {
      "image/png": "[encoded data removed]",
      "text/plain": [
       "<Figure size 1080x360 with 1 Axes>"
      ]
     },
     "metadata": {
      "needs_background": "light"
     },
     "output_type": "display_data"
    }
   ],
   "source": [
    "plt.figure(figsize=(15,5))\n",
    "df_2.query('strategy == 1')['dt_delta'].hist(bins=100)\n",
    "plt.ylabel('Количество пользователей')\n",
    "plt.xlabel('Время прохождения, мин')\n",
    "plt.title('Гистограмма времени прохождения 1го уровня по 1 стратегии')\n",
    "plt.xticks()\n",
    "plt.show()"
   ]
  },
  {
   "cell_type": "code",
   "execution_count": 30,
   "id": "39a5bd21",
   "metadata": {},
   "outputs": [
    {
     "data": {
      "image/png": "[encoded data removed]",
      "text/plain": [
       "<Figure size 1080x360 with 1 Axes>"
      ]
     },
     "metadata": {
      "needs_background": "light"
     },
     "output_type": "display_data"
    }
   ],
   "source": [
    "plt.figure(figsize=(15,5))\n",
    "df_2.query('strategy == 2')['dt_delta'].hist(bins=100)\n",
    "plt.ylabel('Количество пользователей')\n",
    "plt.xlabel('Время прохождения, мин')\n",
    "plt.title('Гистограмма времени прохождения 1го уровня по 2 стратегии')\n",
    "plt.xticks()\n",
    "plt.show()"
   ]
  },
  {
   "cell_type": "code",
   "execution_count": 31,
   "id": "946ee842",
   "metadata": {},
   "outputs": [
    {
     "data": {
      "image/png": "[encoded data removed]",
      "text/plain": [
       "<Figure size 1080x360 with 1 Axes>"
      ]
     },
     "metadata": {
      "needs_background": "light"
     },
     "output_type": "display_data"
    }
   ],
   "source": [
    "plt.figure(figsize=(15,5))\n",
    "(df_2.query('strategy == 1')['dt_delta']/60/24).hist(bins=32)\n",
    "plt.ylabel('Количество пользователей')\n",
    "plt.xlabel('Время прохождения, дни')\n",
    "plt.title('Гистограмма времени прохождения 1го уровня по стратегии победителя')\n",
    "plt.xticks()\n",
    "plt.show()"
   ]
  },
  {
   "cell_type": "code",
   "execution_count": 32,
   "id": "8fdf464f",
   "metadata": {},
   "outputs": [
    {
     "data": {
      "image/png": "[encoded data removed]",
      "text/plain": [
       "<Figure size 1080x360 with 1 Axes>"
      ]
     },
     "metadata": {
      "needs_background": "light"
     },
     "output_type": "display_data"
    }
   ],
   "source": [
    "plt.figure(figsize=(15,5))\n",
    "(df_2.query('strategy == 2')['dt_delta']/60/24).hist(bins=32)\n",
    "plt.ylabel('Количество пользователей')\n",
    "plt.xlabel('Время прохождения, дни')\n",
    "plt.title('Гистограмма времени прохождения 1го уровня по стратегии исследователя')\n",
    "plt.xticks()\n",
    "plt.show()"
   ]
  },
  {
   "cell_type": "code",
   "execution_count": 33,
   "id": "93d4e85d",
   "metadata": {},
   "outputs": [
    {
     "data": {
      "text/html": [
       "<div>\n",
       "<style scoped>\n",
       "    .dataframe tbody tr th:only-of-type {\n",
       "        vertical-align: middle;\n",
       "    }\n",
       "\n",
       "    .dataframe tbody tr th {\n",
       "        vertical-align: top;\n",
       "    }\n",
       "\n",
       "    .dataframe thead th {\n",
       "        text-align: right;\n",
       "    }\n",
       "</style>\n",
       "<table border=\"1\" class=\"dataframe\">\n",
       "  <thead>\n",
       "    <tr style=\"text-align: right;\">\n",
       "      <th></th>\n",
       "      <th>strategy</th>\n",
       "      <th>built_sum</th>\n",
       "      <th>built_median</th>\n",
       "      <th>user_id_count</th>\n",
       "    </tr>\n",
       "  </thead>\n",
       "  <tbody>\n",
       "    <tr>\n",
       "      <th>0</th>\n",
       "      <td>1</td>\n",
       "      <td>37185</td>\n",
       "      <td>10.0</td>\n",
       "      <td>3951</td>\n",
       "    </tr>\n",
       "    <tr>\n",
       "      <th>1</th>\n",
       "      <td>2</td>\n",
       "      <td>23601</td>\n",
       "      <td>12.0</td>\n",
       "      <td>1866</td>\n",
       "    </tr>\n",
       "    <tr>\n",
       "      <th>2</th>\n",
       "      <td>3</td>\n",
       "      <td>67170</td>\n",
       "      <td>8.0</td>\n",
       "      <td>7759</td>\n",
       "    </tr>\n",
       "  </tbody>\n",
       "</table>\n",
       "</div>"
      ],
      "text/plain": [
       "   strategy  built_sum  built_median  user_id_count\n",
       "0         1      37185          10.0           3951\n",
       "1         2      23601          12.0           1866\n",
       "2         3      67170           8.0           7759"
      ]
     },
     "execution_count": 33,
     "metadata": {},
     "output_type": "execute_result"
    }
   ],
   "source": [
    "#Выведем общие данны епо стратегиям\n",
    "df_strategy = df_2.groupby('strategy', as_index=False).agg({'built':['sum','median'],'user_id':'count'})\n",
    "df_strategy.columns = [tup[0] if tup[1] else tup[0] for tup in df_strategy.columns]\n",
    "df_strategy.columns=['strategy', 'built_sum', 'built_median', 'user_id_count']\n",
    "df_strategy"
   ]
  },
  {
   "cell_type": "code",
   "execution_count": 34,
   "id": "28f7335a",
   "metadata": {},
   "outputs": [
    {
     "data": {
      "image/png": "[encoded data removed]",
      "text/plain": [
       "<Figure size 1008x360 with 1 Axes>"
      ]
     },
     "metadata": {
      "needs_background": "light"
     },
     "output_type": "display_data"
    }
   ],
   "source": [
    "#Построим ящик усов для наглядного отобраджения статистики по медианным значенияям построек\n",
    "plt.figure(figsize=(14,5))\n",
    "ax=sns.boxplot(y='strategy', x='built', data=df_2, orient=\"h\", hue='source')\n",
    "ax.set_xlabel('Кол-во построек')\n",
    "ax.set_ylabel('Стратегия')\n",
    "ax.set_title('Кол-во построек в зависимости от стратегии и источника')\n",
    "plt.show()"
   ]
  },
  {
   "cell_type": "markdown",
   "id": "6f3d039a",
   "metadata": {},
   "source": [
    "Промежуточные выводы по полученным данным."
   ]
  },
  {
   "cell_type": "markdown",
   "id": "bc3a342b",
   "metadata": {},
   "source": [
    "1. Всего 13576 пользователей.\n",
    "2. Из них по стратегии 1 прошли уровень 3951, по стратегии 2 - 1866 и не прошли - 7759.\n",
    "3. Минимальное количество построек для прохождения уровня по стратегии 1 - 2 здания, по стратегии 2 - 10 зданий. При этом каждый пользователь построил хотя бы 1 здание.\n",
    "4. Медианное кол-во построек:  \n",
    "Стратегия 1: 10  \n",
    "Стратегия 2: 12  \n",
    "Стратегия 3: 8  \n",
    "5. Источник привлечения на кол-во построек в среднем не влияет на основную массу людей, т.е. по стратегиям кол-во построек примерно одинаковое, только по стратегии 3 пользователи с яндекса и ютуба, строят по медиане 8, а не 9, как соседи по стратегии.\n",
    "6. Время прохождения уровня пользователей по стратегии 1 меньше времени пользователей по стратегии 2.\n",
    "\n",
    "Ответ на вопрос: выгодно ли, чтобы люди не проходили уровень?  \n",
    "Согласно полученным результатам, невыгодно. Т.к. в случае прохождения уровня, медианное значение построек больше, чем у тех, кто не прошел уровень. При этом нельзя исключать, что пользователи по стратегии 3 находятся \"в процессе\" и продолжают игру."
   ]
  },
  {
   "cell_type": "markdown",
   "id": "dd9b935c",
   "metadata": {},
   "source": [
    "5. Источники привлечения\n",
    "\n",
    "Впоросы:\n",
    "- сколько потрачено всего\n",
    "- сколько потрачено по дням\n",
    "- соотнести затраты со стройкой"
   ]
  },
  {
   "cell_type": "code",
   "execution_count": 35,
   "id": "061891b1",
   "metadata": {},
   "outputs": [
    {
     "data": {
      "text/html": [
       "<div>\n",
       "<style scoped>\n",
       "    .dataframe tbody tr th:only-of-type {\n",
       "        vertical-align: middle;\n",
       "    }\n",
       "\n",
       "    .dataframe tbody tr th {\n",
       "        vertical-align: top;\n",
       "    }\n",
       "\n",
       "    .dataframe thead th {\n",
       "        text-align: right;\n",
       "    }\n",
       "</style>\n",
       "<table border=\"1\" class=\"dataframe\">\n",
       "  <thead>\n",
       "    <tr style=\"text-align: right;\">\n",
       "      <th></th>\n",
       "      <th>source</th>\n",
       "      <th>day</th>\n",
       "      <th>cost</th>\n",
       "    </tr>\n",
       "  </thead>\n",
       "  <tbody>\n",
       "    <tr>\n",
       "      <th>0</th>\n",
       "      <td>facebook_ads</td>\n",
       "      <td>2020-05-03</td>\n",
       "      <td>935.9</td>\n",
       "    </tr>\n",
       "    <tr>\n",
       "      <th>1</th>\n",
       "      <td>facebook_ads</td>\n",
       "      <td>2020-05-04</td>\n",
       "      <td>548.4</td>\n",
       "    </tr>\n",
       "    <tr>\n",
       "      <th>2</th>\n",
       "      <td>facebook_ads</td>\n",
       "      <td>2020-05-05</td>\n",
       "      <td>260.2</td>\n",
       "    </tr>\n",
       "    <tr>\n",
       "      <th>3</th>\n",
       "      <td>facebook_ads</td>\n",
       "      <td>2020-05-06</td>\n",
       "      <td>178.0</td>\n",
       "    </tr>\n",
       "    <tr>\n",
       "      <th>4</th>\n",
       "      <td>facebook_ads</td>\n",
       "      <td>2020-05-07</td>\n",
       "      <td>111.8</td>\n",
       "    </tr>\n",
       "  </tbody>\n",
       "</table>\n",
       "</div>"
      ],
      "text/plain": [
       "         source        day   cost\n",
       "0  facebook_ads 2020-05-03  935.9\n",
       "1  facebook_ads 2020-05-04  548.4\n",
       "2  facebook_ads 2020-05-05  260.2\n",
       "3  facebook_ads 2020-05-06  178.0\n",
       "4  facebook_ads 2020-05-07  111.8"
      ]
     },
     "execution_count": 35,
     "metadata": {},
     "output_type": "execute_result"
    }
   ],
   "source": [
    "df_costs1.head()"
   ]
  },
  {
   "cell_type": "code",
   "execution_count": 36,
   "id": "b603e743",
   "metadata": {},
   "outputs": [
    {
     "data": {
      "text/html": [
       "<div>\n",
       "<style scoped>\n",
       "    .dataframe tbody tr th:only-of-type {\n",
       "        vertical-align: middle;\n",
       "    }\n",
       "\n",
       "    .dataframe tbody tr th {\n",
       "        vertical-align: top;\n",
       "    }\n",
       "\n",
       "    .dataframe thead th {\n",
       "        text-align: right;\n",
       "    }\n",
       "</style>\n",
       "<table border=\"1\" class=\"dataframe\">\n",
       "  <thead>\n",
       "    <tr style=\"text-align: right;\">\n",
       "      <th></th>\n",
       "      <th>cost</th>\n",
       "    </tr>\n",
       "    <tr>\n",
       "      <th>source</th>\n",
       "      <th></th>\n",
       "    </tr>\n",
       "  </thead>\n",
       "  <tbody>\n",
       "    <tr>\n",
       "      <th>facebook_ads</th>\n",
       "      <td>2141.0</td>\n",
       "    </tr>\n",
       "    <tr>\n",
       "      <th>instagram_new_adverts</th>\n",
       "      <td>2161.5</td>\n",
       "    </tr>\n",
       "    <tr>\n",
       "      <th>yandex_direct</th>\n",
       "      <td>2233.1</td>\n",
       "    </tr>\n",
       "    <tr>\n",
       "      <th>youtube_channel_reklama</th>\n",
       "      <td>1068.0</td>\n",
       "    </tr>\n",
       "  </tbody>\n",
       "</table>\n",
       "</div>"
      ],
      "text/plain": [
       "                           cost\n",
       "source                         \n",
       "facebook_ads             2141.0\n",
       "instagram_new_adverts    2161.5\n",
       "yandex_direct            2233.1\n",
       "youtube_channel_reklama  1068.0"
      ]
     },
     "execution_count": 36,
     "metadata": {},
     "output_type": "execute_result"
    }
   ],
   "source": [
    "df_costs1.groupby('source').agg({'cost':'sum'})"
   ]
  },
  {
   "cell_type": "markdown",
   "id": "bc73c7d7",
   "metadata": {},
   "source": [
    "Всего было потрачено:\n",
    "- Фейсбук: 2141    \n",
    "- Инстаграм: 2161,5   \n",
    "- Яндекс: 2233,1   \n",
    "- Ютуб: 1068 "
   ]
  },
  {
   "cell_type": "code",
   "execution_count": 37,
   "id": "4990c524",
   "metadata": {},
   "outputs": [],
   "source": [
    "df_costs_source = df_costs1.groupby('source')"
   ]
  },
  {
   "cell_type": "code",
   "execution_count": 38,
   "id": "f9a2da4c",
   "metadata": {},
   "outputs": [
    {
     "data": {
      "image/png": "[encoded data removed]",
      "text/plain": [
       "<Figure size 720x288 with 1 Axes>"
      ]
     },
     "metadata": {
      "needs_background": "light"
     },
     "output_type": "display_data"
    }
   ],
   "source": [
    "plt.figure(figsize=(10,4))\n",
    "ax=sns.barplot(x='source', y='cost', data=df_costs1, hue='day')\n",
    "ax.set_xlabel('Источники')\n",
    "ax.set_ylabel('Затраты на рекламу')\n",
    "ax.set_title('Распределение затрат на рекламу')\n",
    "plt.show()"
   ]
  },
  {
   "cell_type": "markdown",
   "id": "6e0df52a",
   "metadata": {},
   "source": [
    "Добавим к столбцу с датами 1 день, чтобы затраты и постройки были день в день."
   ]
  },
  {
   "cell_type": "code",
   "execution_count": 39,
   "id": "2a11f529",
   "metadata": {
    "scrolled": true
   },
   "outputs": [
    {
     "data": {
      "text/html": [
       "<div>\n",
       "<style scoped>\n",
       "    .dataframe tbody tr th:only-of-type {\n",
       "        vertical-align: middle;\n",
       "    }\n",
       "\n",
       "    .dataframe tbody tr th {\n",
       "        vertical-align: top;\n",
       "    }\n",
       "\n",
       "    .dataframe thead th {\n",
       "        text-align: right;\n",
       "    }\n",
       "</style>\n",
       "<table border=\"1\" class=\"dataframe\">\n",
       "  <thead>\n",
       "    <tr style=\"text-align: right;\">\n",
       "      <th></th>\n",
       "      <th>source</th>\n",
       "      <th>day</th>\n",
       "      <th>cost</th>\n",
       "    </tr>\n",
       "  </thead>\n",
       "  <tbody>\n",
       "    <tr>\n",
       "      <th>0</th>\n",
       "      <td>facebook_ads</td>\n",
       "      <td>2020-05-04</td>\n",
       "      <td>935.9</td>\n",
       "    </tr>\n",
       "    <tr>\n",
       "      <th>1</th>\n",
       "      <td>facebook_ads</td>\n",
       "      <td>2020-05-05</td>\n",
       "      <td>548.4</td>\n",
       "    </tr>\n",
       "    <tr>\n",
       "      <th>2</th>\n",
       "      <td>facebook_ads</td>\n",
       "      <td>2020-05-06</td>\n",
       "      <td>260.2</td>\n",
       "    </tr>\n",
       "    <tr>\n",
       "      <th>3</th>\n",
       "      <td>facebook_ads</td>\n",
       "      <td>2020-05-07</td>\n",
       "      <td>178.0</td>\n",
       "    </tr>\n",
       "    <tr>\n",
       "      <th>4</th>\n",
       "      <td>facebook_ads</td>\n",
       "      <td>2020-05-08</td>\n",
       "      <td>111.8</td>\n",
       "    </tr>\n",
       "    <tr>\n",
       "      <th>5</th>\n",
       "      <td>facebook_ads</td>\n",
       "      <td>2020-05-09</td>\n",
       "      <td>68.0</td>\n",
       "    </tr>\n",
       "    <tr>\n",
       "      <th>6</th>\n",
       "      <td>facebook_ads</td>\n",
       "      <td>2020-05-10</td>\n",
       "      <td>38.7</td>\n",
       "    </tr>\n",
       "    <tr>\n",
       "      <th>7</th>\n",
       "      <td>instagram_new_adverts</td>\n",
       "      <td>2020-05-04</td>\n",
       "      <td>943.2</td>\n",
       "    </tr>\n",
       "    <tr>\n",
       "      <th>8</th>\n",
       "      <td>instagram_new_adverts</td>\n",
       "      <td>2020-05-05</td>\n",
       "      <td>502.9</td>\n",
       "    </tr>\n",
       "    <tr>\n",
       "      <th>9</th>\n",
       "      <td>instagram_new_adverts</td>\n",
       "      <td>2020-05-06</td>\n",
       "      <td>314.0</td>\n",
       "    </tr>\n",
       "    <tr>\n",
       "      <th>10</th>\n",
       "      <td>instagram_new_adverts</td>\n",
       "      <td>2020-05-07</td>\n",
       "      <td>173.1</td>\n",
       "    </tr>\n",
       "    <tr>\n",
       "      <th>11</th>\n",
       "      <td>instagram_new_adverts</td>\n",
       "      <td>2020-05-08</td>\n",
       "      <td>109.9</td>\n",
       "    </tr>\n",
       "    <tr>\n",
       "      <th>12</th>\n",
       "      <td>instagram_new_adverts</td>\n",
       "      <td>2020-05-09</td>\n",
       "      <td>71.6</td>\n",
       "    </tr>\n",
       "    <tr>\n",
       "      <th>13</th>\n",
       "      <td>instagram_new_adverts</td>\n",
       "      <td>2020-05-10</td>\n",
       "      <td>46.8</td>\n",
       "    </tr>\n",
       "    <tr>\n",
       "      <th>14</th>\n",
       "      <td>yandex_direct</td>\n",
       "      <td>2020-05-04</td>\n",
       "      <td>969.1</td>\n",
       "    </tr>\n",
       "    <tr>\n",
       "      <th>15</th>\n",
       "      <td>yandex_direct</td>\n",
       "      <td>2020-05-05</td>\n",
       "      <td>554.7</td>\n",
       "    </tr>\n",
       "    <tr>\n",
       "      <th>16</th>\n",
       "      <td>yandex_direct</td>\n",
       "      <td>2020-05-06</td>\n",
       "      <td>308.2</td>\n",
       "    </tr>\n",
       "    <tr>\n",
       "      <th>17</th>\n",
       "      <td>yandex_direct</td>\n",
       "      <td>2020-05-07</td>\n",
       "      <td>180.9</td>\n",
       "    </tr>\n",
       "    <tr>\n",
       "      <th>18</th>\n",
       "      <td>yandex_direct</td>\n",
       "      <td>2020-05-08</td>\n",
       "      <td>114.4</td>\n",
       "    </tr>\n",
       "    <tr>\n",
       "      <th>19</th>\n",
       "      <td>yandex_direct</td>\n",
       "      <td>2020-05-09</td>\n",
       "      <td>63.0</td>\n",
       "    </tr>\n",
       "    <tr>\n",
       "      <th>20</th>\n",
       "      <td>yandex_direct</td>\n",
       "      <td>2020-05-10</td>\n",
       "      <td>42.8</td>\n",
       "    </tr>\n",
       "    <tr>\n",
       "      <th>21</th>\n",
       "      <td>youtube_channel_reklama</td>\n",
       "      <td>2020-05-04</td>\n",
       "      <td>454.2</td>\n",
       "    </tr>\n",
       "    <tr>\n",
       "      <th>22</th>\n",
       "      <td>youtube_channel_reklama</td>\n",
       "      <td>2020-05-05</td>\n",
       "      <td>259.1</td>\n",
       "    </tr>\n",
       "    <tr>\n",
       "      <th>23</th>\n",
       "      <td>youtube_channel_reklama</td>\n",
       "      <td>2020-05-06</td>\n",
       "      <td>147.0</td>\n",
       "    </tr>\n",
       "    <tr>\n",
       "      <th>24</th>\n",
       "      <td>youtube_channel_reklama</td>\n",
       "      <td>2020-05-07</td>\n",
       "      <td>88.5</td>\n",
       "    </tr>\n",
       "    <tr>\n",
       "      <th>25</th>\n",
       "      <td>youtube_channel_reklama</td>\n",
       "      <td>2020-05-08</td>\n",
       "      <td>55.7</td>\n",
       "    </tr>\n",
       "    <tr>\n",
       "      <th>26</th>\n",
       "      <td>youtube_channel_reklama</td>\n",
       "      <td>2020-05-09</td>\n",
       "      <td>40.2</td>\n",
       "    </tr>\n",
       "    <tr>\n",
       "      <th>27</th>\n",
       "      <td>youtube_channel_reklama</td>\n",
       "      <td>2020-05-10</td>\n",
       "      <td>23.3</td>\n",
       "    </tr>\n",
       "  </tbody>\n",
       "</table>\n",
       "</div>"
      ],
      "text/plain": [
       "                     source        day   cost\n",
       "0              facebook_ads 2020-05-04  935.9\n",
       "1              facebook_ads 2020-05-05  548.4\n",
       "2              facebook_ads 2020-05-06  260.2\n",
       "3              facebook_ads 2020-05-07  178.0\n",
       "4              facebook_ads 2020-05-08  111.8\n",
       "5              facebook_ads 2020-05-09   68.0\n",
       "6              facebook_ads 2020-05-10   38.7\n",
       "7     instagram_new_adverts 2020-05-04  943.2\n",
       "8     instagram_new_adverts 2020-05-05  502.9\n",
       "9     instagram_new_adverts 2020-05-06  314.0\n",
       "10    instagram_new_adverts 2020-05-07  173.1\n",
       "11    instagram_new_adverts 2020-05-08  109.9\n",
       "12    instagram_new_adverts 2020-05-09   71.6\n",
       "13    instagram_new_adverts 2020-05-10   46.8\n",
       "14            yandex_direct 2020-05-04  969.1\n",
       "15            yandex_direct 2020-05-05  554.7\n",
       "16            yandex_direct 2020-05-06  308.2\n",
       "17            yandex_direct 2020-05-07  180.9\n",
       "18            yandex_direct 2020-05-08  114.4\n",
       "19            yandex_direct 2020-05-09   63.0\n",
       "20            yandex_direct 2020-05-10   42.8\n",
       "21  youtube_channel_reklama 2020-05-04  454.2\n",
       "22  youtube_channel_reklama 2020-05-05  259.1\n",
       "23  youtube_channel_reklama 2020-05-06  147.0\n",
       "24  youtube_channel_reklama 2020-05-07   88.5\n",
       "25  youtube_channel_reklama 2020-05-08   55.7\n",
       "26  youtube_channel_reklama 2020-05-09   40.2\n",
       "27  youtube_channel_reklama 2020-05-10   23.3"
      ]
     },
     "execution_count": 39,
     "metadata": {},
     "output_type": "execute_result"
    }
   ],
   "source": [
    "df_costs2 = df_costs1.copy()\n",
    "df_costs2['day'] = df_costs2['day'] + pd.Timedelta(\"1 day\")\n",
    "df_costs2.head(30)"
   ]
  },
  {
   "cell_type": "code",
   "execution_count": 40,
   "id": "d938e753",
   "metadata": {},
   "outputs": [
    {
     "data": {
      "text/html": [
       "<div>\n",
       "<style scoped>\n",
       "    .dataframe tbody tr th:only-of-type {\n",
       "        vertical-align: middle;\n",
       "    }\n",
       "\n",
       "    .dataframe tbody tr th {\n",
       "        vertical-align: top;\n",
       "    }\n",
       "\n",
       "    .dataframe thead th {\n",
       "        text-align: right;\n",
       "    }\n",
       "</style>\n",
       "<table border=\"1\" class=\"dataframe\">\n",
       "  <thead>\n",
       "    <tr style=\"text-align: right;\">\n",
       "      <th></th>\n",
       "      <th>event_datetime</th>\n",
       "      <th>event</th>\n",
       "      <th>building_type</th>\n",
       "      <th>user_id</th>\n",
       "      <th>project_type</th>\n",
       "      <th>built</th>\n",
       "      <th>won</th>\n",
       "      <th>project</th>\n",
       "      <th>source</th>\n",
       "    </tr>\n",
       "  </thead>\n",
       "  <tbody>\n",
       "    <tr>\n",
       "      <th>0</th>\n",
       "      <td>2020-05-04 00:00:01</td>\n",
       "      <td>building</td>\n",
       "      <td>assembly_shop</td>\n",
       "      <td>55e92310-cb8e-4754-b622-597e124b03de</td>\n",
       "      <td>NaN</td>\n",
       "      <td>1</td>\n",
       "      <td>0</td>\n",
       "      <td>0</td>\n",
       "      <td>youtube_channel_reklama</td>\n",
       "    </tr>\n",
       "  </tbody>\n",
       "</table>\n",
       "</div>"
      ],
      "text/plain": [
       "       event_datetime     event  building_type  \\\n",
       "0 2020-05-04 00:00:01  building  assembly_shop   \n",
       "\n",
       "                                user_id project_type  built  won  project  \\\n",
       "0  55e92310-cb8e-4754-b622-597e124b03de          NaN      1    0        0   \n",
       "\n",
       "                    source  \n",
       "0  youtube_channel_reklama  "
      ]
     },
     "execution_count": 40,
     "metadata": {},
     "output_type": "execute_result"
    }
   ],
   "source": [
    "df_game.head(1)"
   ]
  },
  {
   "cell_type": "markdown",
   "id": "94c3802a",
   "metadata": {},
   "source": [
    "Отберем данные, где были постройки"
   ]
  },
  {
   "cell_type": "code",
   "execution_count": 41,
   "id": "6cb416f9",
   "metadata": {},
   "outputs": [
    {
     "data": {
      "text/html": [
       "<div>\n",
       "<style scoped>\n",
       "    .dataframe tbody tr th:only-of-type {\n",
       "        vertical-align: middle;\n",
       "    }\n",
       "\n",
       "    .dataframe tbody tr th {\n",
       "        vertical-align: top;\n",
       "    }\n",
       "\n",
       "    .dataframe thead th {\n",
       "        text-align: right;\n",
       "    }\n",
       "</style>\n",
       "<table border=\"1\" class=\"dataframe\">\n",
       "  <thead>\n",
       "    <tr style=\"text-align: right;\">\n",
       "      <th></th>\n",
       "      <th>event_datetime</th>\n",
       "      <th>event</th>\n",
       "      <th>building_type</th>\n",
       "      <th>user_id</th>\n",
       "      <th>project_type</th>\n",
       "      <th>built</th>\n",
       "      <th>won</th>\n",
       "      <th>project</th>\n",
       "      <th>source</th>\n",
       "    </tr>\n",
       "  </thead>\n",
       "  <tbody>\n",
       "    <tr>\n",
       "      <th>0</th>\n",
       "      <td>2020-05-04 00:00:01</td>\n",
       "      <td>building</td>\n",
       "      <td>assembly_shop</td>\n",
       "      <td>55e92310-cb8e-4754-b622-597e124b03de</td>\n",
       "      <td>NaN</td>\n",
       "      <td>1</td>\n",
       "      <td>0</td>\n",
       "      <td>0</td>\n",
       "      <td>youtube_channel_reklama</td>\n",
       "    </tr>\n",
       "    <tr>\n",
       "      <th>1</th>\n",
       "      <td>2020-05-04 00:00:03</td>\n",
       "      <td>building</td>\n",
       "      <td>assembly_shop</td>\n",
       "      <td>c07b1c10-f477-44dc-81dc-ec82254b1347</td>\n",
       "      <td>NaN</td>\n",
       "      <td>1</td>\n",
       "      <td>0</td>\n",
       "      <td>0</td>\n",
       "      <td>facebook_ads</td>\n",
       "    </tr>\n",
       "    <tr>\n",
       "      <th>2</th>\n",
       "      <td>2020-05-04 00:00:16</td>\n",
       "      <td>building</td>\n",
       "      <td>assembly_shop</td>\n",
       "      <td>6edd42cc-e753-4ff6-a947-2107cd560710</td>\n",
       "      <td>NaN</td>\n",
       "      <td>1</td>\n",
       "      <td>0</td>\n",
       "      <td>0</td>\n",
       "      <td>instagram_new_adverts</td>\n",
       "    </tr>\n",
       "    <tr>\n",
       "      <th>3</th>\n",
       "      <td>2020-05-04 00:00:16</td>\n",
       "      <td>building</td>\n",
       "      <td>assembly_shop</td>\n",
       "      <td>92c69003-d60a-444a-827f-8cc51bf6bf4c</td>\n",
       "      <td>NaN</td>\n",
       "      <td>1</td>\n",
       "      <td>0</td>\n",
       "      <td>0</td>\n",
       "      <td>facebook_ads</td>\n",
       "    </tr>\n",
       "    <tr>\n",
       "      <th>4</th>\n",
       "      <td>2020-05-04 00:00:35</td>\n",
       "      <td>building</td>\n",
       "      <td>assembly_shop</td>\n",
       "      <td>cdc6bb92-0ccb-4490-9866-ef142f09139d</td>\n",
       "      <td>NaN</td>\n",
       "      <td>1</td>\n",
       "      <td>0</td>\n",
       "      <td>0</td>\n",
       "      <td>yandex_direct</td>\n",
       "    </tr>\n",
       "  </tbody>\n",
       "</table>\n",
       "</div>"
      ],
      "text/plain": [
       "       event_datetime     event  building_type  \\\n",
       "0 2020-05-04 00:00:01  building  assembly_shop   \n",
       "1 2020-05-04 00:00:03  building  assembly_shop   \n",
       "2 2020-05-04 00:00:16  building  assembly_shop   \n",
       "3 2020-05-04 00:00:16  building  assembly_shop   \n",
       "4 2020-05-04 00:00:35  building  assembly_shop   \n",
       "\n",
       "                                user_id project_type  built  won  project  \\\n",
       "0  55e92310-cb8e-4754-b622-597e124b03de          NaN      1    0        0   \n",
       "1  c07b1c10-f477-44dc-81dc-ec82254b1347          NaN      1    0        0   \n",
       "2  6edd42cc-e753-4ff6-a947-2107cd560710          NaN      1    0        0   \n",
       "3  92c69003-d60a-444a-827f-8cc51bf6bf4c          NaN      1    0        0   \n",
       "4  cdc6bb92-0ccb-4490-9866-ef142f09139d          NaN      1    0        0   \n",
       "\n",
       "                    source  \n",
       "0  youtube_channel_reklama  \n",
       "1             facebook_ads  \n",
       "2    instagram_new_adverts  \n",
       "3             facebook_ads  \n",
       "4            yandex_direct  "
      ]
     },
     "execution_count": 41,
     "metadata": {},
     "output_type": "execute_result"
    }
   ],
   "source": [
    "df_game.query('event == \"building\"').head()"
   ]
  },
  {
   "cell_type": "code",
   "execution_count": 42,
   "id": "76660f53",
   "metadata": {},
   "outputs": [
    {
     "data": {
      "image/png": "[encoded data removed]",
      "text/plain": [
       "<Figure size 720x288 with 1 Axes>"
      ]
     },
     "metadata": {
      "needs_background": "light"
     },
     "output_type": "display_data"
    }
   ],
   "source": [
    "#Гистограмма построек по дате\n",
    "plt.figure(figsize=(10,4))\n",
    "df_game.query('event == \"building\"')['event_datetime'].hist(bins=32)\n",
    "plt.ylabel('Количество построек')\n",
    "plt.xlabel('Дата события')\n",
    "plt.title('Гистограмма строительства во времени')\n",
    "plt.xticks(rotation=45)\n",
    "plt.show()"
   ]
  },
  {
   "cell_type": "code",
   "execution_count": 43,
   "id": "e65ca066",
   "metadata": {},
   "outputs": [
    {
     "data": {
      "image/png": "[encoded data removed]",
      "text/plain": [
       "<Figure size 576x288 with 1 Axes>"
      ]
     },
     "metadata": {
      "needs_background": "light"
     },
     "output_type": "display_data"
    }
   ],
   "source": [
    "#Гистограмма по дате и времени\n",
    "plt.figure(figsize=(8,4))\n",
    "df_2['dt_min'].hist(bins=8)\n",
    "plt.ylabel('Количество действий')\n",
    "plt.xlabel('Дата события')\n",
    "plt.title('Гистограмма первых действий пользователей')\n",
    "plt.xticks(rotation=45)\n",
    "plt.show()"
   ]
  },
  {
   "cell_type": "markdown",
   "id": "0cc8f337",
   "metadata": {},
   "source": [
    "Из последних трёх графиков видно, что количество первых действий совпадает по графику с затратами на рекламу по источникам.\n",
    "При этом наибольшая активность в части стройки наблюдается на 10.05.2020 - последний день оплачиваемой рекламы."
   ]
  },
  {
   "cell_type": "code",
   "execution_count": 44,
   "id": "ee4d1a68",
   "metadata": {},
   "outputs": [
    {
     "data": {
      "text/html": [
       "<div>\n",
       "<style scoped>\n",
       "    .dataframe tbody tr th:only-of-type {\n",
       "        vertical-align: middle;\n",
       "    }\n",
       "\n",
       "    .dataframe tbody tr th {\n",
       "        vertical-align: top;\n",
       "    }\n",
       "\n",
       "    .dataframe thead th {\n",
       "        text-align: right;\n",
       "    }\n",
       "</style>\n",
       "<table border=\"1\" class=\"dataframe\">\n",
       "  <thead>\n",
       "    <tr style=\"text-align: right;\">\n",
       "      <th></th>\n",
       "      <th>cost</th>\n",
       "    </tr>\n",
       "    <tr>\n",
       "      <th>source</th>\n",
       "      <th></th>\n",
       "    </tr>\n",
       "  </thead>\n",
       "  <tbody>\n",
       "    <tr>\n",
       "      <th>facebook_ads</th>\n",
       "      <td>2141.0</td>\n",
       "    </tr>\n",
       "    <tr>\n",
       "      <th>instagram_new_adverts</th>\n",
       "      <td>2161.5</td>\n",
       "    </tr>\n",
       "    <tr>\n",
       "      <th>yandex_direct</th>\n",
       "      <td>2233.1</td>\n",
       "    </tr>\n",
       "    <tr>\n",
       "      <th>youtube_channel_reklama</th>\n",
       "      <td>1068.0</td>\n",
       "    </tr>\n",
       "  </tbody>\n",
       "</table>\n",
       "</div>"
      ],
      "text/plain": [
       "                           cost\n",
       "source                         \n",
       "facebook_ads             2141.0\n",
       "instagram_new_adverts    2161.5\n",
       "yandex_direct            2233.1\n",
       "youtube_channel_reklama  1068.0"
      ]
     },
     "execution_count": 44,
     "metadata": {},
     "output_type": "execute_result"
    }
   ],
   "source": [
    "df_costs1.groupby('source').agg({'cost':'sum'})"
   ]
  },
  {
   "cell_type": "markdown",
   "id": "f9d611a5",
   "metadata": {},
   "source": [
    "Всего потрачено на рекламу: 7603,6. График распределения затрат:"
   ]
  },
  {
   "cell_type": "code",
   "execution_count": 45,
   "id": "e1b4bc3e",
   "metadata": {},
   "outputs": [
    {
     "data": {
      "image/png": "[encoded data removed]",
      "text/plain": [
       "<Figure size 720x288 with 1 Axes>"
      ]
     },
     "metadata": {
      "needs_background": "light"
     },
     "output_type": "display_data"
    }
   ],
   "source": [
    "plt.figure(figsize=(10,4))\n",
    "ax=sns.barplot(x='source', y='cost', data=df_costs1, hue='day')\n",
    "ax.set_xlabel('Источники')\n",
    "ax.set_ylabel('Затраты на рекламу')\n",
    "ax.set_title('Распределение затрат на рекламу')\n",
    "plt.show()"
   ]
  },
  {
   "cell_type": "markdown",
   "id": "2fa429b8",
   "metadata": {},
   "source": [
    "Затраты с каждым последующим днем снижались по экспоненте с 03.05.2020 по 09.05.2020."
   ]
  },
  {
   "cell_type": "code",
   "execution_count": 46,
   "id": "2206f3ed",
   "metadata": {},
   "outputs": [],
   "source": [
    "#приведем даты к единому формату, чтобы можжно было объединять данные\n",
    "df_game['event_datetime'] = df_game['event_datetime'].dt.normalize()"
   ]
  },
  {
   "cell_type": "code",
   "execution_count": 47,
   "id": "c3613279",
   "metadata": {},
   "outputs": [
    {
     "data": {
      "text/html": [
       "<div>\n",
       "<style scoped>\n",
       "    .dataframe tbody tr th:only-of-type {\n",
       "        vertical-align: middle;\n",
       "    }\n",
       "\n",
       "    .dataframe tbody tr th {\n",
       "        vertical-align: top;\n",
       "    }\n",
       "\n",
       "    .dataframe thead th {\n",
       "        text-align: right;\n",
       "    }\n",
       "</style>\n",
       "<table border=\"1\" class=\"dataframe\">\n",
       "  <thead>\n",
       "    <tr style=\"text-align: right;\">\n",
       "      <th></th>\n",
       "      <th>event_datetime</th>\n",
       "      <th>event</th>\n",
       "      <th>building_type</th>\n",
       "      <th>user_id</th>\n",
       "      <th>project_type</th>\n",
       "      <th>built</th>\n",
       "      <th>won</th>\n",
       "      <th>project</th>\n",
       "      <th>source</th>\n",
       "    </tr>\n",
       "  </thead>\n",
       "  <tbody>\n",
       "    <tr>\n",
       "      <th>0</th>\n",
       "      <td>2020-05-04</td>\n",
       "      <td>building</td>\n",
       "      <td>assembly_shop</td>\n",
       "      <td>55e92310-cb8e-4754-b622-597e124b03de</td>\n",
       "      <td>NaN</td>\n",
       "      <td>1</td>\n",
       "      <td>0</td>\n",
       "      <td>0</td>\n",
       "      <td>youtube_channel_reklama</td>\n",
       "    </tr>\n",
       "    <tr>\n",
       "      <th>1</th>\n",
       "      <td>2020-05-04</td>\n",
       "      <td>building</td>\n",
       "      <td>assembly_shop</td>\n",
       "      <td>c07b1c10-f477-44dc-81dc-ec82254b1347</td>\n",
       "      <td>NaN</td>\n",
       "      <td>1</td>\n",
       "      <td>0</td>\n",
       "      <td>0</td>\n",
       "      <td>facebook_ads</td>\n",
       "    </tr>\n",
       "    <tr>\n",
       "      <th>2</th>\n",
       "      <td>2020-05-04</td>\n",
       "      <td>building</td>\n",
       "      <td>assembly_shop</td>\n",
       "      <td>6edd42cc-e753-4ff6-a947-2107cd560710</td>\n",
       "      <td>NaN</td>\n",
       "      <td>1</td>\n",
       "      <td>0</td>\n",
       "      <td>0</td>\n",
       "      <td>instagram_new_adverts</td>\n",
       "    </tr>\n",
       "    <tr>\n",
       "      <th>3</th>\n",
       "      <td>2020-05-04</td>\n",
       "      <td>building</td>\n",
       "      <td>assembly_shop</td>\n",
       "      <td>92c69003-d60a-444a-827f-8cc51bf6bf4c</td>\n",
       "      <td>NaN</td>\n",
       "      <td>1</td>\n",
       "      <td>0</td>\n",
       "      <td>0</td>\n",
       "      <td>facebook_ads</td>\n",
       "    </tr>\n",
       "    <tr>\n",
       "      <th>4</th>\n",
       "      <td>2020-05-04</td>\n",
       "      <td>building</td>\n",
       "      <td>assembly_shop</td>\n",
       "      <td>cdc6bb92-0ccb-4490-9866-ef142f09139d</td>\n",
       "      <td>NaN</td>\n",
       "      <td>1</td>\n",
       "      <td>0</td>\n",
       "      <td>0</td>\n",
       "      <td>yandex_direct</td>\n",
       "    </tr>\n",
       "  </tbody>\n",
       "</table>\n",
       "</div>"
      ],
      "text/plain": [
       "  event_datetime     event  building_type  \\\n",
       "0     2020-05-04  building  assembly_shop   \n",
       "1     2020-05-04  building  assembly_shop   \n",
       "2     2020-05-04  building  assembly_shop   \n",
       "3     2020-05-04  building  assembly_shop   \n",
       "4     2020-05-04  building  assembly_shop   \n",
       "\n",
       "                                user_id project_type  built  won  project  \\\n",
       "0  55e92310-cb8e-4754-b622-597e124b03de          NaN      1    0        0   \n",
       "1  c07b1c10-f477-44dc-81dc-ec82254b1347          NaN      1    0        0   \n",
       "2  6edd42cc-e753-4ff6-a947-2107cd560710          NaN      1    0        0   \n",
       "3  92c69003-d60a-444a-827f-8cc51bf6bf4c          NaN      1    0        0   \n",
       "4  cdc6bb92-0ccb-4490-9866-ef142f09139d          NaN      1    0        0   \n",
       "\n",
       "                    source  \n",
       "0  youtube_channel_reklama  \n",
       "1             facebook_ads  \n",
       "2    instagram_new_adverts  \n",
       "3             facebook_ads  \n",
       "4            yandex_direct  "
      ]
     },
     "execution_count": 47,
     "metadata": {},
     "output_type": "execute_result"
    }
   ],
   "source": [
    "df_game.head()"
   ]
  },
  {
   "cell_type": "code",
   "execution_count": 48,
   "id": "9ac6178b",
   "metadata": {},
   "outputs": [
    {
     "data": {
      "text/html": [
       "<div>\n",
       "<style scoped>\n",
       "    .dataframe tbody tr th:only-of-type {\n",
       "        vertical-align: middle;\n",
       "    }\n",
       "\n",
       "    .dataframe tbody tr th {\n",
       "        vertical-align: top;\n",
       "    }\n",
       "\n",
       "    .dataframe thead th {\n",
       "        text-align: right;\n",
       "    }\n",
       "</style>\n",
       "<table border=\"1\" class=\"dataframe\">\n",
       "  <thead>\n",
       "    <tr style=\"text-align: right;\">\n",
       "      <th></th>\n",
       "      <th>day</th>\n",
       "      <th>source</th>\n",
       "      <th>built</th>\n",
       "      <th>won</th>\n",
       "      <th>project</th>\n",
       "    </tr>\n",
       "  </thead>\n",
       "  <tbody>\n",
       "    <tr>\n",
       "      <th>0</th>\n",
       "      <td>2020-05-04</td>\n",
       "      <td>facebook_ads</td>\n",
       "      <td>1657</td>\n",
       "      <td>0</td>\n",
       "      <td>0</td>\n",
       "    </tr>\n",
       "    <tr>\n",
       "      <th>1</th>\n",
       "      <td>2020-05-04</td>\n",
       "      <td>instagram_new_adverts</td>\n",
       "      <td>2013</td>\n",
       "      <td>1</td>\n",
       "      <td>0</td>\n",
       "    </tr>\n",
       "    <tr>\n",
       "      <th>2</th>\n",
       "      <td>2020-05-04</td>\n",
       "      <td>yandex_direct</td>\n",
       "      <td>2888</td>\n",
       "      <td>0</td>\n",
       "      <td>0</td>\n",
       "    </tr>\n",
       "    <tr>\n",
       "      <th>3</th>\n",
       "      <td>2020-05-04</td>\n",
       "      <td>youtube_channel_reklama</td>\n",
       "      <td>1612</td>\n",
       "      <td>0</td>\n",
       "      <td>0</td>\n",
       "    </tr>\n",
       "    <tr>\n",
       "      <th>4</th>\n",
       "      <td>2020-05-05</td>\n",
       "      <td>facebook_ads</td>\n",
       "      <td>1864</td>\n",
       "      <td>1</td>\n",
       "      <td>0</td>\n",
       "    </tr>\n",
       "  </tbody>\n",
       "</table>\n",
       "</div>"
      ],
      "text/plain": [
       "         day                   source  built  won  project\n",
       "0 2020-05-04             facebook_ads   1657    0        0\n",
       "1 2020-05-04    instagram_new_adverts   2013    1        0\n",
       "2 2020-05-04            yandex_direct   2888    0        0\n",
       "3 2020-05-04  youtube_channel_reklama   1612    0        0\n",
       "4 2020-05-05             facebook_ads   1864    1        0"
      ]
     },
     "execution_count": 48,
     "metadata": {},
     "output_type": "execute_result"
    }
   ],
   "source": [
    "df_days=df_game.groupby(['event_datetime', 'source'], as_index=False).agg({'built':'sum', 'won':'sum', 'project':'sum'})\n",
    "#df_days.columns = [tup[0] if tup[1] else tup[0] for tup in df_strategy.columns]\n",
    "df_days.columns=['day', 'source', 'built', 'won', 'project']\n",
    "df_days.head()"
   ]
  },
  {
   "cell_type": "code",
   "execution_count": 49,
   "id": "26a2643f",
   "metadata": {},
   "outputs": [
    {
     "data": {
      "text/html": [
       "<div>\n",
       "<style scoped>\n",
       "    .dataframe tbody tr th:only-of-type {\n",
       "        vertical-align: middle;\n",
       "    }\n",
       "\n",
       "    .dataframe tbody tr th {\n",
       "        vertical-align: top;\n",
       "    }\n",
       "\n",
       "    .dataframe thead th {\n",
       "        text-align: right;\n",
       "    }\n",
       "</style>\n",
       "<table border=\"1\" class=\"dataframe\">\n",
       "  <thead>\n",
       "    <tr style=\"text-align: right;\">\n",
       "      <th></th>\n",
       "      <th>day</th>\n",
       "      <th>source_x</th>\n",
       "      <th>built</th>\n",
       "      <th>won</th>\n",
       "      <th>project</th>\n",
       "      <th>source_y</th>\n",
       "      <th>cost</th>\n",
       "    </tr>\n",
       "  </thead>\n",
       "  <tbody>\n",
       "    <tr>\n",
       "      <th>0</th>\n",
       "      <td>2020-05-04</td>\n",
       "      <td>facebook_ads</td>\n",
       "      <td>1657</td>\n",
       "      <td>0</td>\n",
       "      <td>0</td>\n",
       "      <td>facebook_ads</td>\n",
       "      <td>935.9</td>\n",
       "    </tr>\n",
       "    <tr>\n",
       "      <th>1</th>\n",
       "      <td>2020-05-04</td>\n",
       "      <td>facebook_ads</td>\n",
       "      <td>1657</td>\n",
       "      <td>0</td>\n",
       "      <td>0</td>\n",
       "      <td>instagram_new_adverts</td>\n",
       "      <td>943.2</td>\n",
       "    </tr>\n",
       "    <tr>\n",
       "      <th>2</th>\n",
       "      <td>2020-05-04</td>\n",
       "      <td>facebook_ads</td>\n",
       "      <td>1657</td>\n",
       "      <td>0</td>\n",
       "      <td>0</td>\n",
       "      <td>yandex_direct</td>\n",
       "      <td>969.1</td>\n",
       "    </tr>\n",
       "    <tr>\n",
       "      <th>3</th>\n",
       "      <td>2020-05-04</td>\n",
       "      <td>facebook_ads</td>\n",
       "      <td>1657</td>\n",
       "      <td>0</td>\n",
       "      <td>0</td>\n",
       "      <td>youtube_channel_reklama</td>\n",
       "      <td>454.2</td>\n",
       "    </tr>\n",
       "    <tr>\n",
       "      <th>4</th>\n",
       "      <td>2020-05-04</td>\n",
       "      <td>instagram_new_adverts</td>\n",
       "      <td>2013</td>\n",
       "      <td>1</td>\n",
       "      <td>0</td>\n",
       "      <td>facebook_ads</td>\n",
       "      <td>935.9</td>\n",
       "    </tr>\n",
       "  </tbody>\n",
       "</table>\n",
       "</div>"
      ],
      "text/plain": [
       "         day               source_x  built  won  project  \\\n",
       "0 2020-05-04           facebook_ads   1657    0        0   \n",
       "1 2020-05-04           facebook_ads   1657    0        0   \n",
       "2 2020-05-04           facebook_ads   1657    0        0   \n",
       "3 2020-05-04           facebook_ads   1657    0        0   \n",
       "4 2020-05-04  instagram_new_adverts   2013    1        0   \n",
       "\n",
       "                  source_y   cost  \n",
       "0             facebook_ads  935.9  \n",
       "1    instagram_new_adverts  943.2  \n",
       "2            yandex_direct  969.1  \n",
       "3  youtube_channel_reklama  454.2  \n",
       "4             facebook_ads  935.9  "
      ]
     },
     "execution_count": 49,
     "metadata": {},
     "output_type": "execute_result"
    }
   ],
   "source": [
    "#Получим объединенную таблицу построек с затратами.\n",
    "df_days_costs = df_days.merge(\n",
    "    df_costs2,\n",
    "    how='left',\n",
    "    left_on='day',\n",
    "    right_on='day'\n",
    ")\n",
    "df_days_costs.head()"
   ]
  },
  {
   "cell_type": "code",
   "execution_count": 50,
   "id": "93a347b8",
   "metadata": {},
   "outputs": [],
   "source": [
    "#pd.concat([df_days, df_costs2], verify_integrity=False, axis=1, join = 'inner')"
   ]
  },
  {
   "cell_type": "code",
   "execution_count": 51,
   "id": "a8bab468",
   "metadata": {},
   "outputs": [],
   "source": [
    "df_costs3=df_costs2.sort_values(by=['day','source'])"
   ]
  },
  {
   "cell_type": "code",
   "execution_count": 52,
   "id": "5d0a7211",
   "metadata": {},
   "outputs": [],
   "source": [
    "df_days1=df_days.sort_values(by=['day','source'])"
   ]
  },
  {
   "cell_type": "code",
   "execution_count": 53,
   "id": "c40cddc1",
   "metadata": {},
   "outputs": [
    {
     "data": {
      "text/html": [
       "<div>\n",
       "<style scoped>\n",
       "    .dataframe tbody tr th:only-of-type {\n",
       "        vertical-align: middle;\n",
       "    }\n",
       "\n",
       "    .dataframe tbody tr th {\n",
       "        vertical-align: top;\n",
       "    }\n",
       "\n",
       "    .dataframe thead th {\n",
       "        text-align: right;\n",
       "    }\n",
       "</style>\n",
       "<table border=\"1\" class=\"dataframe\">\n",
       "  <thead>\n",
       "    <tr style=\"text-align: right;\">\n",
       "      <th></th>\n",
       "      <th>day</th>\n",
       "      <th>source</th>\n",
       "      <th>built</th>\n",
       "      <th>won</th>\n",
       "      <th>project</th>\n",
       "      <th>cost</th>\n",
       "    </tr>\n",
       "  </thead>\n",
       "  <tbody>\n",
       "    <tr>\n",
       "      <th>0</th>\n",
       "      <td>2020-05-04</td>\n",
       "      <td>facebook_ads</td>\n",
       "      <td>1657</td>\n",
       "      <td>0</td>\n",
       "      <td>0</td>\n",
       "      <td>935.9</td>\n",
       "    </tr>\n",
       "    <tr>\n",
       "      <th>1</th>\n",
       "      <td>2020-05-04</td>\n",
       "      <td>instagram_new_adverts</td>\n",
       "      <td>2013</td>\n",
       "      <td>1</td>\n",
       "      <td>0</td>\n",
       "      <td>943.2</td>\n",
       "    </tr>\n",
       "    <tr>\n",
       "      <th>2</th>\n",
       "      <td>2020-05-04</td>\n",
       "      <td>yandex_direct</td>\n",
       "      <td>2888</td>\n",
       "      <td>0</td>\n",
       "      <td>0</td>\n",
       "      <td>969.1</td>\n",
       "    </tr>\n",
       "    <tr>\n",
       "      <th>3</th>\n",
       "      <td>2020-05-04</td>\n",
       "      <td>youtube_channel_reklama</td>\n",
       "      <td>1612</td>\n",
       "      <td>0</td>\n",
       "      <td>0</td>\n",
       "      <td>454.2</td>\n",
       "    </tr>\n",
       "    <tr>\n",
       "      <th>4</th>\n",
       "      <td>2020-05-05</td>\n",
       "      <td>facebook_ads</td>\n",
       "      <td>1864</td>\n",
       "      <td>1</td>\n",
       "      <td>0</td>\n",
       "      <td>548.4</td>\n",
       "    </tr>\n",
       "  </tbody>\n",
       "</table>\n",
       "</div>"
      ],
      "text/plain": [
       "         day                   source  built  won  project   cost\n",
       "0 2020-05-04             facebook_ads   1657    0        0  935.9\n",
       "1 2020-05-04    instagram_new_adverts   2013    1        0  943.2\n",
       "2 2020-05-04            yandex_direct   2888    0        0  969.1\n",
       "3 2020-05-04  youtube_channel_reklama   1612    0        0  454.2\n",
       "4 2020-05-05             facebook_ads   1864    1        0  548.4"
      ]
     },
     "execution_count": 53,
     "metadata": {},
     "output_type": "execute_result"
    }
   ],
   "source": [
    "df_days_costs = df_days1.merge(\n",
    "    df_costs3,\n",
    "    how='left',\n",
    "    on=['day', 'source']\n",
    ")\n",
    "df_days_costs.head()"
   ]
  },
  {
   "cell_type": "code",
   "execution_count": 54,
   "id": "a6a504d6",
   "metadata": {},
   "outputs": [
    {
     "data": {
      "image/png": "[encoded data removed]",
      "text/plain": [
       "<Figure size 432x288 with 1 Axes>"
      ]
     },
     "metadata": {
      "needs_background": "light"
     },
     "output_type": "display_data"
    }
   ],
   "source": [
    "#Построим график зависимости построек от затрат\n",
    "plt.figure(figsize=(6,4))\n",
    "ax=sns.scatterplot(data=df_days_costs, \n",
    "                x='built', \n",
    "                y='cost', \n",
    "                hue='source'\n",
    "               )\n",
    "ax.set_xlabel('Кол-во построек')\n",
    "ax.set_ylabel('Затраты на рекламу')\n",
    "ax.set_title('Зависимость количества построек от затрат на рекламу')\n",
    "plt.show()"
   ]
  },
  {
   "cell_type": "code",
   "execution_count": 55,
   "id": "9a5ea24a",
   "metadata": {},
   "outputs": [
    {
     "data": {
      "text/html": [
       "<div>\n",
       "<style scoped>\n",
       "    .dataframe tbody tr th:only-of-type {\n",
       "        vertical-align: middle;\n",
       "    }\n",
       "\n",
       "    .dataframe tbody tr th {\n",
       "        vertical-align: top;\n",
       "    }\n",
       "\n",
       "    .dataframe thead th {\n",
       "        text-align: right;\n",
       "    }\n",
       "</style>\n",
       "<table border=\"1\" class=\"dataframe\">\n",
       "  <thead>\n",
       "    <tr style=\"text-align: right;\">\n",
       "      <th></th>\n",
       "      <th>event_datetime</th>\n",
       "      <th>event</th>\n",
       "      <th>building_type</th>\n",
       "      <th>user_id</th>\n",
       "      <th>project_type</th>\n",
       "      <th>built</th>\n",
       "      <th>won</th>\n",
       "      <th>project</th>\n",
       "      <th>source</th>\n",
       "    </tr>\n",
       "  </thead>\n",
       "  <tbody>\n",
       "    <tr>\n",
       "      <th>0</th>\n",
       "      <td>2020-05-04</td>\n",
       "      <td>building</td>\n",
       "      <td>assembly_shop</td>\n",
       "      <td>55e92310-cb8e-4754-b622-597e124b03de</td>\n",
       "      <td>NaN</td>\n",
       "      <td>1</td>\n",
       "      <td>0</td>\n",
       "      <td>0</td>\n",
       "      <td>youtube_channel_reklama</td>\n",
       "    </tr>\n",
       "    <tr>\n",
       "      <th>1</th>\n",
       "      <td>2020-05-04</td>\n",
       "      <td>building</td>\n",
       "      <td>assembly_shop</td>\n",
       "      <td>c07b1c10-f477-44dc-81dc-ec82254b1347</td>\n",
       "      <td>NaN</td>\n",
       "      <td>1</td>\n",
       "      <td>0</td>\n",
       "      <td>0</td>\n",
       "      <td>facebook_ads</td>\n",
       "    </tr>\n",
       "    <tr>\n",
       "      <th>2</th>\n",
       "      <td>2020-05-04</td>\n",
       "      <td>building</td>\n",
       "      <td>assembly_shop</td>\n",
       "      <td>6edd42cc-e753-4ff6-a947-2107cd560710</td>\n",
       "      <td>NaN</td>\n",
       "      <td>1</td>\n",
       "      <td>0</td>\n",
       "      <td>0</td>\n",
       "      <td>instagram_new_adverts</td>\n",
       "    </tr>\n",
       "    <tr>\n",
       "      <th>3</th>\n",
       "      <td>2020-05-04</td>\n",
       "      <td>building</td>\n",
       "      <td>assembly_shop</td>\n",
       "      <td>92c69003-d60a-444a-827f-8cc51bf6bf4c</td>\n",
       "      <td>NaN</td>\n",
       "      <td>1</td>\n",
       "      <td>0</td>\n",
       "      <td>0</td>\n",
       "      <td>facebook_ads</td>\n",
       "    </tr>\n",
       "    <tr>\n",
       "      <th>4</th>\n",
       "      <td>2020-05-04</td>\n",
       "      <td>building</td>\n",
       "      <td>assembly_shop</td>\n",
       "      <td>cdc6bb92-0ccb-4490-9866-ef142f09139d</td>\n",
       "      <td>NaN</td>\n",
       "      <td>1</td>\n",
       "      <td>0</td>\n",
       "      <td>0</td>\n",
       "      <td>yandex_direct</td>\n",
       "    </tr>\n",
       "  </tbody>\n",
       "</table>\n",
       "</div>"
      ],
      "text/plain": [
       "  event_datetime     event  building_type  \\\n",
       "0     2020-05-04  building  assembly_shop   \n",
       "1     2020-05-04  building  assembly_shop   \n",
       "2     2020-05-04  building  assembly_shop   \n",
       "3     2020-05-04  building  assembly_shop   \n",
       "4     2020-05-04  building  assembly_shop   \n",
       "\n",
       "                                user_id project_type  built  won  project  \\\n",
       "0  55e92310-cb8e-4754-b622-597e124b03de          NaN      1    0        0   \n",
       "1  c07b1c10-f477-44dc-81dc-ec82254b1347          NaN      1    0        0   \n",
       "2  6edd42cc-e753-4ff6-a947-2107cd560710          NaN      1    0        0   \n",
       "3  92c69003-d60a-444a-827f-8cc51bf6bf4c          NaN      1    0        0   \n",
       "4  cdc6bb92-0ccb-4490-9866-ef142f09139d          NaN      1    0        0   \n",
       "\n",
       "                    source  \n",
       "0  youtube_channel_reklama  \n",
       "1             facebook_ads  \n",
       "2    instagram_new_adverts  \n",
       "3             facebook_ads  \n",
       "4            yandex_direct  "
      ]
     },
     "execution_count": 55,
     "metadata": {},
     "output_type": "execute_result"
    }
   ],
   "source": [
    "#Определим даты первой постройки в отдельный датафрейм\n",
    "df_game.head()"
   ]
  },
  {
   "cell_type": "code",
   "execution_count": 56,
   "id": "5ee2b5c9",
   "metadata": {},
   "outputs": [
    {
     "data": {
      "text/html": [
       "<div>\n",
       "<style scoped>\n",
       "    .dataframe tbody tr th:only-of-type {\n",
       "        vertical-align: middle;\n",
       "    }\n",
       "\n",
       "    .dataframe tbody tr th {\n",
       "        vertical-align: top;\n",
       "    }\n",
       "\n",
       "    .dataframe thead th {\n",
       "        text-align: right;\n",
       "    }\n",
       "</style>\n",
       "<table border=\"1\" class=\"dataframe\">\n",
       "  <thead>\n",
       "    <tr style=\"text-align: right;\">\n",
       "      <th></th>\n",
       "      <th>event_datetime</th>\n",
       "      <th>event</th>\n",
       "      <th>building_type</th>\n",
       "      <th>user_id</th>\n",
       "      <th>project_type</th>\n",
       "      <th>built</th>\n",
       "      <th>won</th>\n",
       "      <th>project</th>\n",
       "      <th>source</th>\n",
       "    </tr>\n",
       "  </thead>\n",
       "  <tbody>\n",
       "    <tr>\n",
       "      <th>0</th>\n",
       "      <td>2020-05-04</td>\n",
       "      <td>building</td>\n",
       "      <td>assembly_shop</td>\n",
       "      <td>55e92310-cb8e-4754-b622-597e124b03de</td>\n",
       "      <td>NaN</td>\n",
       "      <td>1</td>\n",
       "      <td>0</td>\n",
       "      <td>0</td>\n",
       "      <td>youtube_channel_reklama</td>\n",
       "    </tr>\n",
       "  </tbody>\n",
       "</table>\n",
       "</div>"
      ],
      "text/plain": [
       "  event_datetime     event  building_type  \\\n",
       "0     2020-05-04  building  assembly_shop   \n",
       "\n",
       "                                user_id project_type  built  won  project  \\\n",
       "0  55e92310-cb8e-4754-b622-597e124b03de          NaN      1    0        0   \n",
       "\n",
       "                    source  \n",
       "0  youtube_channel_reklama  "
      ]
     },
     "execution_count": 56,
     "metadata": {},
     "output_type": "execute_result"
    }
   ],
   "source": [
    "df_game_building=df_game.query('event ==\"building\"')\n",
    "df_game_building.head(1)"
   ]
  },
  {
   "cell_type": "code",
   "execution_count": 57,
   "id": "9b485658",
   "metadata": {},
   "outputs": [
    {
     "data": {
      "text/html": [
       "<div>\n",
       "<style scoped>\n",
       "    .dataframe tbody tr th:only-of-type {\n",
       "        vertical-align: middle;\n",
       "    }\n",
       "\n",
       "    .dataframe tbody tr th {\n",
       "        vertical-align: top;\n",
       "    }\n",
       "\n",
       "    .dataframe thead th {\n",
       "        text-align: right;\n",
       "    }\n",
       "</style>\n",
       "<table border=\"1\" class=\"dataframe\">\n",
       "  <thead>\n",
       "    <tr style=\"text-align: right;\">\n",
       "      <th></th>\n",
       "      <th>first_built</th>\n",
       "    </tr>\n",
       "    <tr>\n",
       "      <th>user_id</th>\n",
       "      <th></th>\n",
       "    </tr>\n",
       "  </thead>\n",
       "  <tbody>\n",
       "    <tr>\n",
       "      <th>0001f83c-c6ac-4621-b7f0-8a28b283ac30</th>\n",
       "      <td>2020-05-06</td>\n",
       "    </tr>\n",
       "    <tr>\n",
       "      <th>00151b4f-ba38-44a8-a650-d7cf130a0105</th>\n",
       "      <td>2020-05-06</td>\n",
       "    </tr>\n",
       "    <tr>\n",
       "      <th>001aaea6-3d14-43f1-8ca8-7f48820f17aa</th>\n",
       "      <td>2020-05-05</td>\n",
       "    </tr>\n",
       "    <tr>\n",
       "      <th>001d39dc-366c-4021-9604-6a3b9ff01e25</th>\n",
       "      <td>2020-05-05</td>\n",
       "    </tr>\n",
       "    <tr>\n",
       "      <th>002f508f-67b6-479f-814b-b05f00d4e995</th>\n",
       "      <td>2020-05-05</td>\n",
       "    </tr>\n",
       "  </tbody>\n",
       "</table>\n",
       "</div>"
      ],
      "text/plain": [
       "                                     first_built\n",
       "user_id                                         \n",
       "0001f83c-c6ac-4621-b7f0-8a28b283ac30  2020-05-06\n",
       "00151b4f-ba38-44a8-a650-d7cf130a0105  2020-05-06\n",
       "001aaea6-3d14-43f1-8ca8-7f48820f17aa  2020-05-05\n",
       "001d39dc-366c-4021-9604-6a3b9ff01e25  2020-05-05\n",
       "002f508f-67b6-479f-814b-b05f00d4e995  2020-05-05"
      ]
     },
     "execution_count": 57,
     "metadata": {},
     "output_type": "execute_result"
    }
   ],
   "source": [
    "first_building = df_game_building.groupby('user_id').agg({'event_datetime': 'min'})\n",
    "first_building.columns=['first_built']\n",
    "first_building.head()"
   ]
  },
  {
   "cell_type": "code",
   "execution_count": 58,
   "id": "d724270e",
   "metadata": {},
   "outputs": [
    {
     "data": {
      "text/html": [
       "<div>\n",
       "<style scoped>\n",
       "    .dataframe tbody tr th:only-of-type {\n",
       "        vertical-align: middle;\n",
       "    }\n",
       "\n",
       "    .dataframe tbody tr th {\n",
       "        vertical-align: top;\n",
       "    }\n",
       "\n",
       "    .dataframe thead th {\n",
       "        text-align: right;\n",
       "    }\n",
       "</style>\n",
       "<table border=\"1\" class=\"dataframe\">\n",
       "  <thead>\n",
       "    <tr style=\"text-align: right;\">\n",
       "      <th></th>\n",
       "      <th>event_datetime</th>\n",
       "      <th>event</th>\n",
       "      <th>building_type</th>\n",
       "      <th>user_id</th>\n",
       "      <th>project_type</th>\n",
       "      <th>built</th>\n",
       "      <th>won</th>\n",
       "      <th>project</th>\n",
       "      <th>source</th>\n",
       "      <th>first_built</th>\n",
       "    </tr>\n",
       "  </thead>\n",
       "  <tbody>\n",
       "    <tr>\n",
       "      <th>0</th>\n",
       "      <td>2020-05-04</td>\n",
       "      <td>building</td>\n",
       "      <td>assembly_shop</td>\n",
       "      <td>55e92310-cb8e-4754-b622-597e124b03de</td>\n",
       "      <td>NaN</td>\n",
       "      <td>1</td>\n",
       "      <td>0</td>\n",
       "      <td>0</td>\n",
       "      <td>youtube_channel_reklama</td>\n",
       "      <td>2020-05-04</td>\n",
       "    </tr>\n",
       "    <tr>\n",
       "      <th>10101</th>\n",
       "      <td>2020-05-05</td>\n",
       "      <td>building</td>\n",
       "      <td>assembly_shop</td>\n",
       "      <td>55e92310-cb8e-4754-b622-597e124b03de</td>\n",
       "      <td>NaN</td>\n",
       "      <td>1</td>\n",
       "      <td>0</td>\n",
       "      <td>0</td>\n",
       "      <td>youtube_channel_reklama</td>\n",
       "      <td>2020-05-04</td>\n",
       "    </tr>\n",
       "    <tr>\n",
       "      <th>15489</th>\n",
       "      <td>2020-05-05</td>\n",
       "      <td>building</td>\n",
       "      <td>assembly_shop</td>\n",
       "      <td>55e92310-cb8e-4754-b622-597e124b03de</td>\n",
       "      <td>NaN</td>\n",
       "      <td>1</td>\n",
       "      <td>0</td>\n",
       "      <td>0</td>\n",
       "      <td>youtube_channel_reklama</td>\n",
       "      <td>2020-05-04</td>\n",
       "    </tr>\n",
       "    <tr>\n",
       "      <th>16114</th>\n",
       "      <td>2020-05-05</td>\n",
       "      <td>building</td>\n",
       "      <td>assembly_shop</td>\n",
       "      <td>55e92310-cb8e-4754-b622-597e124b03de</td>\n",
       "      <td>NaN</td>\n",
       "      <td>1</td>\n",
       "      <td>0</td>\n",
       "      <td>0</td>\n",
       "      <td>youtube_channel_reklama</td>\n",
       "      <td>2020-05-04</td>\n",
       "    </tr>\n",
       "    <tr>\n",
       "      <th>17607</th>\n",
       "      <td>2020-05-06</td>\n",
       "      <td>building</td>\n",
       "      <td>assembly_shop</td>\n",
       "      <td>55e92310-cb8e-4754-b622-597e124b03de</td>\n",
       "      <td>NaN</td>\n",
       "      <td>1</td>\n",
       "      <td>0</td>\n",
       "      <td>0</td>\n",
       "      <td>youtube_channel_reklama</td>\n",
       "      <td>2020-05-04</td>\n",
       "    </tr>\n",
       "  </tbody>\n",
       "</table>\n",
       "</div>"
      ],
      "text/plain": [
       "      event_datetime     event  building_type  \\\n",
       "0         2020-05-04  building  assembly_shop   \n",
       "10101     2020-05-05  building  assembly_shop   \n",
       "15489     2020-05-05  building  assembly_shop   \n",
       "16114     2020-05-05  building  assembly_shop   \n",
       "17607     2020-05-06  building  assembly_shop   \n",
       "\n",
       "                                    user_id project_type  built  won  project  \\\n",
       "0      55e92310-cb8e-4754-b622-597e124b03de          NaN      1    0        0   \n",
       "10101  55e92310-cb8e-4754-b622-597e124b03de          NaN      1    0        0   \n",
       "15489  55e92310-cb8e-4754-b622-597e124b03de          NaN      1    0        0   \n",
       "16114  55e92310-cb8e-4754-b622-597e124b03de          NaN      1    0        0   \n",
       "17607  55e92310-cb8e-4754-b622-597e124b03de          NaN      1    0        0   \n",
       "\n",
       "                        source first_built  \n",
       "0      youtube_channel_reklama  2020-05-04  \n",
       "10101  youtube_channel_reklama  2020-05-04  \n",
       "15489  youtube_channel_reklama  2020-05-04  \n",
       "16114  youtube_channel_reklama  2020-05-04  \n",
       "17607  youtube_channel_reklama  2020-05-04  "
      ]
     },
     "execution_count": 58,
     "metadata": {},
     "output_type": "execute_result"
    }
   ],
   "source": [
    "building = df_game_building.merge(first_building, how='inner', left_on='user_id', right_index=True)\n",
    "building.head()"
   ]
  },
  {
   "cell_type": "code",
   "execution_count": 59,
   "id": "2e79eedf",
   "metadata": {},
   "outputs": [],
   "source": [
    "one_day_filter = building['event_datetime'] - building['first_built'] < \"1 day\""
   ]
  },
  {
   "cell_type": "code",
   "execution_count": 60,
   "id": "059362ea",
   "metadata": {},
   "outputs": [],
   "source": [
    "one_day_building = building[one_day_filter]"
   ]
  },
  {
   "cell_type": "code",
   "execution_count": 61,
   "id": "e9f94f3b",
   "metadata": {},
   "outputs": [
    {
     "data": {
      "text/html": [
       "<div>\n",
       "<style scoped>\n",
       "    .dataframe tbody tr th:only-of-type {\n",
       "        vertical-align: middle;\n",
       "    }\n",
       "\n",
       "    .dataframe tbody tr th {\n",
       "        vertical-align: top;\n",
       "    }\n",
       "\n",
       "    .dataframe thead th {\n",
       "        text-align: right;\n",
       "    }\n",
       "</style>\n",
       "<table border=\"1\" class=\"dataframe\">\n",
       "  <thead>\n",
       "    <tr style=\"text-align: right;\">\n",
       "      <th></th>\n",
       "      <th>event_datetime</th>\n",
       "      <th>event</th>\n",
       "      <th>building_type</th>\n",
       "      <th>user_id</th>\n",
       "      <th>project_type</th>\n",
       "      <th>built</th>\n",
       "      <th>won</th>\n",
       "      <th>project</th>\n",
       "      <th>source</th>\n",
       "      <th>first_built</th>\n",
       "    </tr>\n",
       "  </thead>\n",
       "  <tbody>\n",
       "    <tr>\n",
       "      <th>0</th>\n",
       "      <td>2020-05-04</td>\n",
       "      <td>building</td>\n",
       "      <td>assembly_shop</td>\n",
       "      <td>55e92310-cb8e-4754-b622-597e124b03de</td>\n",
       "      <td>NaN</td>\n",
       "      <td>1</td>\n",
       "      <td>0</td>\n",
       "      <td>0</td>\n",
       "      <td>youtube_channel_reklama</td>\n",
       "      <td>2020-05-04</td>\n",
       "    </tr>\n",
       "    <tr>\n",
       "      <th>1</th>\n",
       "      <td>2020-05-04</td>\n",
       "      <td>building</td>\n",
       "      <td>assembly_shop</td>\n",
       "      <td>c07b1c10-f477-44dc-81dc-ec82254b1347</td>\n",
       "      <td>NaN</td>\n",
       "      <td>1</td>\n",
       "      <td>0</td>\n",
       "      <td>0</td>\n",
       "      <td>facebook_ads</td>\n",
       "      <td>2020-05-04</td>\n",
       "    </tr>\n",
       "    <tr>\n",
       "      <th>2</th>\n",
       "      <td>2020-05-04</td>\n",
       "      <td>building</td>\n",
       "      <td>assembly_shop</td>\n",
       "      <td>6edd42cc-e753-4ff6-a947-2107cd560710</td>\n",
       "      <td>NaN</td>\n",
       "      <td>1</td>\n",
       "      <td>0</td>\n",
       "      <td>0</td>\n",
       "      <td>instagram_new_adverts</td>\n",
       "      <td>2020-05-04</td>\n",
       "    </tr>\n",
       "    <tr>\n",
       "      <th>3</th>\n",
       "      <td>2020-05-04</td>\n",
       "      <td>building</td>\n",
       "      <td>assembly_shop</td>\n",
       "      <td>92c69003-d60a-444a-827f-8cc51bf6bf4c</td>\n",
       "      <td>NaN</td>\n",
       "      <td>1</td>\n",
       "      <td>0</td>\n",
       "      <td>0</td>\n",
       "      <td>facebook_ads</td>\n",
       "      <td>2020-05-04</td>\n",
       "    </tr>\n",
       "    <tr>\n",
       "      <th>4</th>\n",
       "      <td>2020-05-04</td>\n",
       "      <td>building</td>\n",
       "      <td>assembly_shop</td>\n",
       "      <td>cdc6bb92-0ccb-4490-9866-ef142f09139d</td>\n",
       "      <td>NaN</td>\n",
       "      <td>1</td>\n",
       "      <td>0</td>\n",
       "      <td>0</td>\n",
       "      <td>yandex_direct</td>\n",
       "      <td>2020-05-04</td>\n",
       "    </tr>\n",
       "  </tbody>\n",
       "</table>\n",
       "</div>"
      ],
      "text/plain": [
       "  event_datetime     event  building_type  \\\n",
       "0     2020-05-04  building  assembly_shop   \n",
       "1     2020-05-04  building  assembly_shop   \n",
       "2     2020-05-04  building  assembly_shop   \n",
       "3     2020-05-04  building  assembly_shop   \n",
       "4     2020-05-04  building  assembly_shop   \n",
       "\n",
       "                                user_id project_type  built  won  project  \\\n",
       "0  55e92310-cb8e-4754-b622-597e124b03de          NaN      1    0        0   \n",
       "1  c07b1c10-f477-44dc-81dc-ec82254b1347          NaN      1    0        0   \n",
       "2  6edd42cc-e753-4ff6-a947-2107cd560710          NaN      1    0        0   \n",
       "3  92c69003-d60a-444a-827f-8cc51bf6bf4c          NaN      1    0        0   \n",
       "4  cdc6bb92-0ccb-4490-9866-ef142f09139d          NaN      1    0        0   \n",
       "\n",
       "                    source first_built  \n",
       "0  youtube_channel_reklama  2020-05-04  \n",
       "1             facebook_ads  2020-05-04  \n",
       "2    instagram_new_adverts  2020-05-04  \n",
       "3             facebook_ads  2020-05-04  \n",
       "4            yandex_direct  2020-05-04  "
      ]
     },
     "execution_count": 61,
     "metadata": {},
     "output_type": "execute_result"
    }
   ],
   "source": [
    "one_day_building.head()"
   ]
  },
  {
   "cell_type": "code",
   "execution_count": 62,
   "id": "ad53e2de",
   "metadata": {},
   "outputs": [
    {
     "data": {
      "text/html": [
       "<div>\n",
       "<style scoped>\n",
       "    .dataframe tbody tr th:only-of-type {\n",
       "        vertical-align: middle;\n",
       "    }\n",
       "\n",
       "    .dataframe tbody tr th {\n",
       "        vertical-align: top;\n",
       "    }\n",
       "\n",
       "    .dataframe thead th {\n",
       "        text-align: right;\n",
       "    }\n",
       "</style>\n",
       "<table border=\"1\" class=\"dataframe\">\n",
       "  <thead>\n",
       "    <tr style=\"text-align: right;\">\n",
       "      <th></th>\n",
       "      <th>day</th>\n",
       "      <th>source</th>\n",
       "      <th>built</th>\n",
       "      <th>won</th>\n",
       "      <th>project</th>\n",
       "    </tr>\n",
       "  </thead>\n",
       "  <tbody>\n",
       "    <tr>\n",
       "      <th>0</th>\n",
       "      <td>2020-05-04</td>\n",
       "      <td>facebook_ads</td>\n",
       "      <td>1657</td>\n",
       "      <td>0</td>\n",
       "      <td>0</td>\n",
       "    </tr>\n",
       "    <tr>\n",
       "      <th>1</th>\n",
       "      <td>2020-05-04</td>\n",
       "      <td>instagram_new_adverts</td>\n",
       "      <td>2013</td>\n",
       "      <td>0</td>\n",
       "      <td>0</td>\n",
       "    </tr>\n",
       "    <tr>\n",
       "      <th>2</th>\n",
       "      <td>2020-05-04</td>\n",
       "      <td>yandex_direct</td>\n",
       "      <td>2888</td>\n",
       "      <td>0</td>\n",
       "      <td>0</td>\n",
       "    </tr>\n",
       "    <tr>\n",
       "      <th>3</th>\n",
       "      <td>2020-05-04</td>\n",
       "      <td>youtube_channel_reklama</td>\n",
       "      <td>1612</td>\n",
       "      <td>0</td>\n",
       "      <td>0</td>\n",
       "    </tr>\n",
       "    <tr>\n",
       "      <th>4</th>\n",
       "      <td>2020-05-05</td>\n",
       "      <td>facebook_ads</td>\n",
       "      <td>991</td>\n",
       "      <td>0</td>\n",
       "      <td>0</td>\n",
       "    </tr>\n",
       "  </tbody>\n",
       "</table>\n",
       "</div>"
      ],
      "text/plain": [
       "         day                   source  built  won  project\n",
       "0 2020-05-04             facebook_ads   1657    0        0\n",
       "1 2020-05-04    instagram_new_adverts   2013    0        0\n",
       "2 2020-05-04            yandex_direct   2888    0        0\n",
       "3 2020-05-04  youtube_channel_reklama   1612    0        0\n",
       "4 2020-05-05             facebook_ads    991    0        0"
      ]
     },
     "execution_count": 62,
     "metadata": {},
     "output_type": "execute_result"
    }
   ],
   "source": [
    "df_one_day=one_day_building.groupby(['event_datetime', 'source'], as_index=False).agg({'built':'sum', 'won':'sum', 'project':'sum'})\n",
    "#df_days.columns = [tup[0] if tup[1] else tup[0] for tup in df_strategy.columns]\n",
    "df_one_day.columns=['day', 'source', 'built', 'won', 'project']\n",
    "df_one_day.head()"
   ]
  },
  {
   "cell_type": "code",
   "execution_count": 63,
   "id": "863b6fea",
   "metadata": {},
   "outputs": [
    {
     "data": {
      "text/html": [
       "<div>\n",
       "<style scoped>\n",
       "    .dataframe tbody tr th:only-of-type {\n",
       "        vertical-align: middle;\n",
       "    }\n",
       "\n",
       "    .dataframe tbody tr th {\n",
       "        vertical-align: top;\n",
       "    }\n",
       "\n",
       "    .dataframe thead th {\n",
       "        text-align: right;\n",
       "    }\n",
       "</style>\n",
       "<table border=\"1\" class=\"dataframe\">\n",
       "  <thead>\n",
       "    <tr style=\"text-align: right;\">\n",
       "      <th></th>\n",
       "      <th>day</th>\n",
       "      <th>source</th>\n",
       "      <th>built</th>\n",
       "      <th>won</th>\n",
       "      <th>project</th>\n",
       "      <th>cost</th>\n",
       "    </tr>\n",
       "  </thead>\n",
       "  <tbody>\n",
       "    <tr>\n",
       "      <th>0</th>\n",
       "      <td>2020-05-04</td>\n",
       "      <td>facebook_ads</td>\n",
       "      <td>1657</td>\n",
       "      <td>0</td>\n",
       "      <td>0</td>\n",
       "      <td>935.9</td>\n",
       "    </tr>\n",
       "    <tr>\n",
       "      <th>1</th>\n",
       "      <td>2020-05-04</td>\n",
       "      <td>instagram_new_adverts</td>\n",
       "      <td>2013</td>\n",
       "      <td>0</td>\n",
       "      <td>0</td>\n",
       "      <td>943.2</td>\n",
       "    </tr>\n",
       "    <tr>\n",
       "      <th>2</th>\n",
       "      <td>2020-05-04</td>\n",
       "      <td>yandex_direct</td>\n",
       "      <td>2888</td>\n",
       "      <td>0</td>\n",
       "      <td>0</td>\n",
       "      <td>969.1</td>\n",
       "    </tr>\n",
       "    <tr>\n",
       "      <th>3</th>\n",
       "      <td>2020-05-04</td>\n",
       "      <td>youtube_channel_reklama</td>\n",
       "      <td>1612</td>\n",
       "      <td>0</td>\n",
       "      <td>0</td>\n",
       "      <td>454.2</td>\n",
       "    </tr>\n",
       "    <tr>\n",
       "      <th>4</th>\n",
       "      <td>2020-05-05</td>\n",
       "      <td>facebook_ads</td>\n",
       "      <td>991</td>\n",
       "      <td>0</td>\n",
       "      <td>0</td>\n",
       "      <td>548.4</td>\n",
       "    </tr>\n",
       "  </tbody>\n",
       "</table>\n",
       "</div>"
      ],
      "text/plain": [
       "         day                   source  built  won  project   cost\n",
       "0 2020-05-04             facebook_ads   1657    0        0  935.9\n",
       "1 2020-05-04    instagram_new_adverts   2013    0        0  943.2\n",
       "2 2020-05-04            yandex_direct   2888    0        0  969.1\n",
       "3 2020-05-04  youtube_channel_reklama   1612    0        0  454.2\n",
       "4 2020-05-05             facebook_ads    991    0        0  548.4"
      ]
     },
     "execution_count": 63,
     "metadata": {},
     "output_type": "execute_result"
    }
   ],
   "source": [
    "df_days_costs_extra = df_one_day.merge(\n",
    "    df_costs3,\n",
    "    how='left',\n",
    "    on=['day', 'source']\n",
    ")\n",
    "df_days_costs_extra.head()"
   ]
  },
  {
   "cell_type": "code",
   "execution_count": 64,
   "id": "3915687d",
   "metadata": {},
   "outputs": [
    {
     "data": {
      "image/png": "[encoded data removed]",
      "text/plain": [
       "<Figure size 432x288 with 1 Axes>"
      ]
     },
     "metadata": {
      "needs_background": "light"
     },
     "output_type": "display_data"
    }
   ],
   "source": [
    "#Построим график зависимости построек от затрат\n",
    "plt.figure(figsize=(6,4))\n",
    "ax=sns.scatterplot(data=df_days_costs_extra, \n",
    "                x='built', \n",
    "                y='cost', \n",
    "                hue='source'\n",
    "               )\n",
    "ax.set_xlabel('Кол-во построек')\n",
    "ax.set_ylabel('Затраты на рекламу')\n",
    "ax.set_title('Зависимость количества построек от затрат на рекламу')\n",
    "ax.legend(loc = 'lower right')\n",
    "plt.show()"
   ]
  },
  {
   "cell_type": "code",
   "execution_count": 65,
   "id": "ad036bc3",
   "metadata": {},
   "outputs": [
    {
     "data": {
      "text/html": [
       "<div>\n",
       "<style scoped>\n",
       "    .dataframe tbody tr th:only-of-type {\n",
       "        vertical-align: middle;\n",
       "    }\n",
       "\n",
       "    .dataframe tbody tr th {\n",
       "        vertical-align: top;\n",
       "    }\n",
       "\n",
       "    .dataframe thead th {\n",
       "        text-align: right;\n",
       "    }\n",
       "</style>\n",
       "<table border=\"1\" class=\"dataframe\">\n",
       "  <thead>\n",
       "    <tr style=\"text-align: right;\">\n",
       "      <th></th>\n",
       "      <th>day</th>\n",
       "      <th>source</th>\n",
       "      <th>built</th>\n",
       "      <th>won</th>\n",
       "      <th>project</th>\n",
       "      <th>cost</th>\n",
       "      <th>ratio</th>\n",
       "    </tr>\n",
       "  </thead>\n",
       "  <tbody>\n",
       "    <tr>\n",
       "      <th>0</th>\n",
       "      <td>2020-05-04</td>\n",
       "      <td>facebook_ads</td>\n",
       "      <td>1657</td>\n",
       "      <td>0</td>\n",
       "      <td>0</td>\n",
       "      <td>935.9</td>\n",
       "      <td>1.770488</td>\n",
       "    </tr>\n",
       "    <tr>\n",
       "      <th>1</th>\n",
       "      <td>2020-05-04</td>\n",
       "      <td>instagram_new_adverts</td>\n",
       "      <td>2013</td>\n",
       "      <td>0</td>\n",
       "      <td>0</td>\n",
       "      <td>943.2</td>\n",
       "      <td>2.134224</td>\n",
       "    </tr>\n",
       "    <tr>\n",
       "      <th>2</th>\n",
       "      <td>2020-05-04</td>\n",
       "      <td>yandex_direct</td>\n",
       "      <td>2888</td>\n",
       "      <td>0</td>\n",
       "      <td>0</td>\n",
       "      <td>969.1</td>\n",
       "      <td>2.980085</td>\n",
       "    </tr>\n",
       "    <tr>\n",
       "      <th>3</th>\n",
       "      <td>2020-05-04</td>\n",
       "      <td>youtube_channel_reklama</td>\n",
       "      <td>1612</td>\n",
       "      <td>0</td>\n",
       "      <td>0</td>\n",
       "      <td>454.2</td>\n",
       "      <td>3.549097</td>\n",
       "    </tr>\n",
       "    <tr>\n",
       "      <th>4</th>\n",
       "      <td>2020-05-05</td>\n",
       "      <td>facebook_ads</td>\n",
       "      <td>991</td>\n",
       "      <td>0</td>\n",
       "      <td>0</td>\n",
       "      <td>548.4</td>\n",
       "      <td>1.807075</td>\n",
       "    </tr>\n",
       "  </tbody>\n",
       "</table>\n",
       "</div>"
      ],
      "text/plain": [
       "         day                   source  built  won  project   cost     ratio\n",
       "0 2020-05-04             facebook_ads   1657    0        0  935.9  1.770488\n",
       "1 2020-05-04    instagram_new_adverts   2013    0        0  943.2  2.134224\n",
       "2 2020-05-04            yandex_direct   2888    0        0  969.1  2.980085\n",
       "3 2020-05-04  youtube_channel_reklama   1612    0        0  454.2  3.549097\n",
       "4 2020-05-05             facebook_ads    991    0        0  548.4  1.807075"
      ]
     },
     "execution_count": 65,
     "metadata": {},
     "output_type": "execute_result"
    }
   ],
   "source": [
    "#Определим кол-во построек на 1 $\n",
    "df_days_costs_extra['ratio']=df_days_costs_extra['built'] / df_days_costs_extra['cost']\n",
    "df_days_costs_extra.head(5)"
   ]
  },
  {
   "cell_type": "code",
   "execution_count": 66,
   "id": "40f3b652",
   "metadata": {},
   "outputs": [
    {
     "data": {
      "image/png": "[encoded data removed]",
      "text/plain": [
       "<Figure size 720x288 with 1 Axes>"
      ]
     },
     "metadata": {
      "needs_background": "light"
     },
     "output_type": "display_data"
    }
   ],
   "source": [
    "#Построим график соотношения построек к затратам\n",
    "plt.figure(figsize=(10,4))\n",
    "ax=sns.lineplot(data=df_days_costs_extra, y='ratio', x='day', hue='source')\n",
    "ax.set_xlabel('Дата')\n",
    "ax.set_ylabel('Отношение построек к 1$ затрат')\n",
    "ax.set_title('Соотношение эффективности по каналам привлечения')\n",
    "plt.show()"
   ]
  },
  {
   "cell_type": "code",
   "execution_count": 67,
   "id": "25540f5c",
   "metadata": {},
   "outputs": [
    {
     "data": {
      "text/html": [
       "<div>\n",
       "<style scoped>\n",
       "    .dataframe tbody tr th:only-of-type {\n",
       "        vertical-align: middle;\n",
       "    }\n",
       "\n",
       "    .dataframe tbody tr th {\n",
       "        vertical-align: top;\n",
       "    }\n",
       "\n",
       "    .dataframe thead th {\n",
       "        text-align: right;\n",
       "    }\n",
       "</style>\n",
       "<table border=\"1\" class=\"dataframe\">\n",
       "  <thead>\n",
       "    <tr style=\"text-align: right;\">\n",
       "      <th></th>\n",
       "      <th>day</th>\n",
       "      <th>source</th>\n",
       "      <th>built</th>\n",
       "      <th>won</th>\n",
       "      <th>project</th>\n",
       "      <th>cost</th>\n",
       "      <th>ratio</th>\n",
       "    </tr>\n",
       "  </thead>\n",
       "  <tbody>\n",
       "    <tr>\n",
       "      <th>0</th>\n",
       "      <td>2020-05-04</td>\n",
       "      <td>facebook_ads</td>\n",
       "      <td>1657</td>\n",
       "      <td>0</td>\n",
       "      <td>0</td>\n",
       "      <td>935.9</td>\n",
       "      <td>1.770488</td>\n",
       "    </tr>\n",
       "    <tr>\n",
       "      <th>1</th>\n",
       "      <td>2020-05-04</td>\n",
       "      <td>instagram_new_adverts</td>\n",
       "      <td>2013</td>\n",
       "      <td>1</td>\n",
       "      <td>0</td>\n",
       "      <td>943.2</td>\n",
       "      <td>2.134224</td>\n",
       "    </tr>\n",
       "    <tr>\n",
       "      <th>2</th>\n",
       "      <td>2020-05-04</td>\n",
       "      <td>yandex_direct</td>\n",
       "      <td>2888</td>\n",
       "      <td>0</td>\n",
       "      <td>0</td>\n",
       "      <td>969.1</td>\n",
       "      <td>2.980085</td>\n",
       "    </tr>\n",
       "    <tr>\n",
       "      <th>3</th>\n",
       "      <td>2020-05-04</td>\n",
       "      <td>youtube_channel_reklama</td>\n",
       "      <td>1612</td>\n",
       "      <td>0</td>\n",
       "      <td>0</td>\n",
       "      <td>454.2</td>\n",
       "      <td>3.549097</td>\n",
       "    </tr>\n",
       "    <tr>\n",
       "      <th>4</th>\n",
       "      <td>2020-05-05</td>\n",
       "      <td>facebook_ads</td>\n",
       "      <td>1864</td>\n",
       "      <td>1</td>\n",
       "      <td>0</td>\n",
       "      <td>548.4</td>\n",
       "      <td>3.398979</td>\n",
       "    </tr>\n",
       "    <tr>\n",
       "      <th>5</th>\n",
       "      <td>2020-05-05</td>\n",
       "      <td>instagram_new_adverts</td>\n",
       "      <td>2201</td>\n",
       "      <td>0</td>\n",
       "      <td>0</td>\n",
       "      <td>502.9</td>\n",
       "      <td>4.376616</td>\n",
       "    </tr>\n",
       "    <tr>\n",
       "      <th>6</th>\n",
       "      <td>2020-05-05</td>\n",
       "      <td>yandex_direct</td>\n",
       "      <td>3254</td>\n",
       "      <td>0</td>\n",
       "      <td>0</td>\n",
       "      <td>554.7</td>\n",
       "      <td>5.866234</td>\n",
       "    </tr>\n",
       "    <tr>\n",
       "      <th>7</th>\n",
       "      <td>2020-05-05</td>\n",
       "      <td>youtube_channel_reklama</td>\n",
       "      <td>1733</td>\n",
       "      <td>2</td>\n",
       "      <td>0</td>\n",
       "      <td>259.1</td>\n",
       "      <td>6.688537</td>\n",
       "    </tr>\n",
       "    <tr>\n",
       "      <th>8</th>\n",
       "      <td>2020-05-06</td>\n",
       "      <td>facebook_ads</td>\n",
       "      <td>2045</td>\n",
       "      <td>2</td>\n",
       "      <td>0</td>\n",
       "      <td>260.2</td>\n",
       "      <td>7.859339</td>\n",
       "    </tr>\n",
       "    <tr>\n",
       "      <th>9</th>\n",
       "      <td>2020-05-06</td>\n",
       "      <td>instagram_new_adverts</td>\n",
       "      <td>2406</td>\n",
       "      <td>1</td>\n",
       "      <td>0</td>\n",
       "      <td>314.0</td>\n",
       "      <td>7.662420</td>\n",
       "    </tr>\n",
       "    <tr>\n",
       "      <th>10</th>\n",
       "      <td>2020-05-06</td>\n",
       "      <td>yandex_direct</td>\n",
       "      <td>3533</td>\n",
       "      <td>0</td>\n",
       "      <td>0</td>\n",
       "      <td>308.2</td>\n",
       "      <td>11.463335</td>\n",
       "    </tr>\n",
       "    <tr>\n",
       "      <th>11</th>\n",
       "      <td>2020-05-06</td>\n",
       "      <td>youtube_channel_reklama</td>\n",
       "      <td>1937</td>\n",
       "      <td>1</td>\n",
       "      <td>0</td>\n",
       "      <td>147.0</td>\n",
       "      <td>13.176871</td>\n",
       "    </tr>\n",
       "    <tr>\n",
       "      <th>12</th>\n",
       "      <td>2020-05-07</td>\n",
       "      <td>facebook_ads</td>\n",
       "      <td>2232</td>\n",
       "      <td>4</td>\n",
       "      <td>0</td>\n",
       "      <td>178.0</td>\n",
       "      <td>12.539326</td>\n",
       "    </tr>\n",
       "    <tr>\n",
       "      <th>13</th>\n",
       "      <td>2020-05-07</td>\n",
       "      <td>instagram_new_adverts</td>\n",
       "      <td>2652</td>\n",
       "      <td>2</td>\n",
       "      <td>0</td>\n",
       "      <td>173.1</td>\n",
       "      <td>15.320624</td>\n",
       "    </tr>\n",
       "    <tr>\n",
       "      <th>14</th>\n",
       "      <td>2020-05-07</td>\n",
       "      <td>yandex_direct</td>\n",
       "      <td>3851</td>\n",
       "      <td>4</td>\n",
       "      <td>0</td>\n",
       "      <td>180.9</td>\n",
       "      <td>21.288004</td>\n",
       "    </tr>\n",
       "    <tr>\n",
       "      <th>15</th>\n",
       "      <td>2020-05-07</td>\n",
       "      <td>youtube_channel_reklama</td>\n",
       "      <td>2112</td>\n",
       "      <td>1</td>\n",
       "      <td>0</td>\n",
       "      <td>88.5</td>\n",
       "      <td>23.864407</td>\n",
       "    </tr>\n",
       "    <tr>\n",
       "      <th>16</th>\n",
       "      <td>2020-05-08</td>\n",
       "      <td>facebook_ads</td>\n",
       "      <td>2509</td>\n",
       "      <td>4</td>\n",
       "      <td>0</td>\n",
       "      <td>111.8</td>\n",
       "      <td>22.441860</td>\n",
       "    </tr>\n",
       "    <tr>\n",
       "      <th>17</th>\n",
       "      <td>2020-05-08</td>\n",
       "      <td>instagram_new_adverts</td>\n",
       "      <td>3008</td>\n",
       "      <td>6</td>\n",
       "      <td>0</td>\n",
       "      <td>109.9</td>\n",
       "      <td>27.370337</td>\n",
       "    </tr>\n",
       "    <tr>\n",
       "      <th>18</th>\n",
       "      <td>2020-05-08</td>\n",
       "      <td>yandex_direct</td>\n",
       "      <td>4137</td>\n",
       "      <td>14</td>\n",
       "      <td>0</td>\n",
       "      <td>114.4</td>\n",
       "      <td>36.162587</td>\n",
       "    </tr>\n",
       "    <tr>\n",
       "      <th>19</th>\n",
       "      <td>2020-05-08</td>\n",
       "      <td>youtube_channel_reklama</td>\n",
       "      <td>2376</td>\n",
       "      <td>4</td>\n",
       "      <td>1</td>\n",
       "      <td>55.7</td>\n",
       "      <td>42.657092</td>\n",
       "    </tr>\n",
       "    <tr>\n",
       "      <th>20</th>\n",
       "      <td>2020-05-09</td>\n",
       "      <td>facebook_ads</td>\n",
       "      <td>2693</td>\n",
       "      <td>10</td>\n",
       "      <td>1</td>\n",
       "      <td>68.0</td>\n",
       "      <td>39.602941</td>\n",
       "    </tr>\n",
       "    <tr>\n",
       "      <th>21</th>\n",
       "      <td>2020-05-09</td>\n",
       "      <td>instagram_new_adverts</td>\n",
       "      <td>3164</td>\n",
       "      <td>12</td>\n",
       "      <td>0</td>\n",
       "      <td>71.6</td>\n",
       "      <td>44.189944</td>\n",
       "    </tr>\n",
       "    <tr>\n",
       "      <th>22</th>\n",
       "      <td>2020-05-09</td>\n",
       "      <td>yandex_direct</td>\n",
       "      <td>4645</td>\n",
       "      <td>24</td>\n",
       "      <td>1</td>\n",
       "      <td>63.0</td>\n",
       "      <td>73.730159</td>\n",
       "    </tr>\n",
       "    <tr>\n",
       "      <th>23</th>\n",
       "      <td>2020-05-09</td>\n",
       "      <td>youtube_channel_reklama</td>\n",
       "      <td>2564</td>\n",
       "      <td>14</td>\n",
       "      <td>1</td>\n",
       "      <td>40.2</td>\n",
       "      <td>63.781095</td>\n",
       "    </tr>\n",
       "    <tr>\n",
       "      <th>24</th>\n",
       "      <td>2020-05-10</td>\n",
       "      <td>facebook_ads</td>\n",
       "      <td>2996</td>\n",
       "      <td>33</td>\n",
       "      <td>5</td>\n",
       "      <td>38.7</td>\n",
       "      <td>77.416021</td>\n",
       "    </tr>\n",
       "    <tr>\n",
       "      <th>25</th>\n",
       "      <td>2020-05-10</td>\n",
       "      <td>instagram_new_adverts</td>\n",
       "      <td>3844</td>\n",
       "      <td>34</td>\n",
       "      <td>7</td>\n",
       "      <td>46.8</td>\n",
       "      <td>82.136752</td>\n",
       "    </tr>\n",
       "    <tr>\n",
       "      <th>26</th>\n",
       "      <td>2020-05-10</td>\n",
       "      <td>yandex_direct</td>\n",
       "      <td>5264</td>\n",
       "      <td>47</td>\n",
       "      <td>16</td>\n",
       "      <td>42.8</td>\n",
       "      <td>122.990654</td>\n",
       "    </tr>\n",
       "    <tr>\n",
       "      <th>27</th>\n",
       "      <td>2020-05-10</td>\n",
       "      <td>youtube_channel_reklama</td>\n",
       "      <td>2918</td>\n",
       "      <td>37</td>\n",
       "      <td>6</td>\n",
       "      <td>23.3</td>\n",
       "      <td>125.236052</td>\n",
       "    </tr>\n",
       "  </tbody>\n",
       "</table>\n",
       "</div>"
      ],
      "text/plain": [
       "          day                   source  built  won  project   cost       ratio\n",
       "0  2020-05-04             facebook_ads   1657    0        0  935.9    1.770488\n",
       "1  2020-05-04    instagram_new_adverts   2013    1        0  943.2    2.134224\n",
       "2  2020-05-04            yandex_direct   2888    0        0  969.1    2.980085\n",
       "3  2020-05-04  youtube_channel_reklama   1612    0        0  454.2    3.549097\n",
       "4  2020-05-05             facebook_ads   1864    1        0  548.4    3.398979\n",
       "5  2020-05-05    instagram_new_adverts   2201    0        0  502.9    4.376616\n",
       "6  2020-05-05            yandex_direct   3254    0        0  554.7    5.866234\n",
       "7  2020-05-05  youtube_channel_reklama   1733    2        0  259.1    6.688537\n",
       "8  2020-05-06             facebook_ads   2045    2        0  260.2    7.859339\n",
       "9  2020-05-06    instagram_new_adverts   2406    1        0  314.0    7.662420\n",
       "10 2020-05-06            yandex_direct   3533    0        0  308.2   11.463335\n",
       "11 2020-05-06  youtube_channel_reklama   1937    1        0  147.0   13.176871\n",
       "12 2020-05-07             facebook_ads   2232    4        0  178.0   12.539326\n",
       "13 2020-05-07    instagram_new_adverts   2652    2        0  173.1   15.320624\n",
       "14 2020-05-07            yandex_direct   3851    4        0  180.9   21.288004\n",
       "15 2020-05-07  youtube_channel_reklama   2112    1        0   88.5   23.864407\n",
       "16 2020-05-08             facebook_ads   2509    4        0  111.8   22.441860\n",
       "17 2020-05-08    instagram_new_adverts   3008    6        0  109.9   27.370337\n",
       "18 2020-05-08            yandex_direct   4137   14        0  114.4   36.162587\n",
       "19 2020-05-08  youtube_channel_reklama   2376    4        1   55.7   42.657092\n",
       "20 2020-05-09             facebook_ads   2693   10        1   68.0   39.602941\n",
       "21 2020-05-09    instagram_new_adverts   3164   12        0   71.6   44.189944\n",
       "22 2020-05-09            yandex_direct   4645   24        1   63.0   73.730159\n",
       "23 2020-05-09  youtube_channel_reklama   2564   14        1   40.2   63.781095\n",
       "24 2020-05-10             facebook_ads   2996   33        5   38.7   77.416021\n",
       "25 2020-05-10    instagram_new_adverts   3844   34        7   46.8   82.136752\n",
       "26 2020-05-10            yandex_direct   5264   47       16   42.8  122.990654\n",
       "27 2020-05-10  youtube_channel_reklama   2918   37        6   23.3  125.236052"
      ]
     },
     "execution_count": 67,
     "metadata": {},
     "output_type": "execute_result"
    }
   ],
   "source": [
    "#Определим кол-во построек на 1 $\n",
    "df_days_costs['ratio']=df_days_costs['built'] / df_days_costs['cost']\n",
    "df_days_costs.head(28)"
   ]
  },
  {
   "cell_type": "code",
   "execution_count": 68,
   "id": "bb91d5cc",
   "metadata": {},
   "outputs": [
    {
     "data": {
      "image/png": "[encoded data removed]",
      "text/plain": [
       "<Figure size 720x288 with 1 Axes>"
      ]
     },
     "metadata": {
      "needs_background": "light"
     },
     "output_type": "display_data"
    }
   ],
   "source": [
    "#Построим график соотношения построек к затратам\n",
    "plt.figure(figsize=(10,4))\n",
    "ax=sns.lineplot(data=df_days_costs, y='ratio', x='day', hue='source')\n",
    "ax.set_xlabel('Дата')\n",
    "ax.set_ylabel('Отношение построек к 1$ затрат')\n",
    "ax.set_title('Соотношение эффективности по каналам привлечения')\n",
    "plt.show()"
   ]
  },
  {
   "cell_type": "markdown",
   "id": "448a02c9",
   "metadata": {},
   "source": [
    "Из полученных графиков можно сделать следующие выводы:\n",
    "1. Кол-во построек зависит от затрат  \n",
    "2. При сопоставимых затратах на рекламу между ФБ, Инстаграммом и Яндексом эффективность, т.е. количество построек на единицу затрат почти в 2 раза выше у пользователей, пришедших с Яндекса и Ютуба.  \n",
    "3. При пропорционально меньших затратах пользователи с Ютуба строили пропорционально меньше построек.  \n",
    "4. Соотношение количества построек на 1ед. затрат у Яндекса - 2,9 и Ютуба - 3,4;  \n",
    "у ФБ - 1,7 и Инстаграм - 2,1.\n",
    "\n",
    "Резюме: при планировании затрат необходимо больше вкладывать в рекламу Яндекс и Ютуб."
   ]
  },
  {
   "cell_type": "markdown",
   "id": "5672398f",
   "metadata": {},
   "source": [
    "6.Проверка гипотез"
   ]
  },
  {
   "cell_type": "markdown",
   "id": "befc5731",
   "metadata": {},
   "source": [
    "6.1. Гипотеза 1  \n",
    "Нулевая гипотеза: Исследовательская стратегия занимает столько же времени на прохождение уровня, что и стратегия победителя.\n",
    "Альтернативная гипотеза: Исследовательская стратегия занимает другое время на прохождение уровня, в сравнении со стратегией победителя.  \n",
    "Подготовим датафреймы для работы."
   ]
  },
  {
   "cell_type": "code",
   "execution_count": 69,
   "id": "a1f212d0",
   "metadata": {},
   "outputs": [
    {
     "data": {
      "text/html": [
       "<div>\n",
       "<style scoped>\n",
       "    .dataframe tbody tr th:only-of-type {\n",
       "        vertical-align: middle;\n",
       "    }\n",
       "\n",
       "    .dataframe tbody tr th {\n",
       "        vertical-align: top;\n",
       "    }\n",
       "\n",
       "    .dataframe thead th {\n",
       "        text-align: right;\n",
       "    }\n",
       "</style>\n",
       "<table border=\"1\" class=\"dataframe\">\n",
       "  <thead>\n",
       "    <tr style=\"text-align: right;\">\n",
       "      <th></th>\n",
       "      <th>user_id</th>\n",
       "      <th>built</th>\n",
       "      <th>won</th>\n",
       "      <th>project</th>\n",
       "      <th>dt_min</th>\n",
       "      <th>dt_max</th>\n",
       "      <th>dt_delta</th>\n",
       "      <th>strategy</th>\n",
       "      <th>source</th>\n",
       "    </tr>\n",
       "  </thead>\n",
       "  <tbody>\n",
       "    <tr>\n",
       "      <th>3</th>\n",
       "      <td>001d39dc-366c-4021-9604-6a3b9ff01e25</td>\n",
       "      <td>8</td>\n",
       "      <td>1</td>\n",
       "      <td>0</td>\n",
       "      <td>2020-05-05 21:02:05</td>\n",
       "      <td>2020-05-12 07:40:47</td>\n",
       "      <td>9278.7</td>\n",
       "      <td>1</td>\n",
       "      <td>instagram_new_adverts</td>\n",
       "    </tr>\n",
       "  </tbody>\n",
       "</table>\n",
       "</div>"
      ],
      "text/plain": [
       "                                user_id  built  won  project  \\\n",
       "3  001d39dc-366c-4021-9604-6a3b9ff01e25      8    1        0   \n",
       "\n",
       "               dt_min              dt_max  dt_delta  strategy  \\\n",
       "3 2020-05-05 21:02:05 2020-05-12 07:40:47    9278.7         1   \n",
       "\n",
       "                  source  \n",
       "3  instagram_new_adverts  "
      ]
     },
     "execution_count": 69,
     "metadata": {},
     "output_type": "execute_result"
    }
   ],
   "source": [
    "df_stategy1=df_2.query('strategy == 1')\n",
    "df_stategy1.head(1)"
   ]
  },
  {
   "cell_type": "code",
   "execution_count": 70,
   "id": "8aee67c2",
   "metadata": {},
   "outputs": [
    {
     "data": {
      "text/html": [
       "<div>\n",
       "<style scoped>\n",
       "    .dataframe tbody tr th:only-of-type {\n",
       "        vertical-align: middle;\n",
       "    }\n",
       "\n",
       "    .dataframe tbody tr th {\n",
       "        vertical-align: top;\n",
       "    }\n",
       "\n",
       "    .dataframe thead th {\n",
       "        text-align: right;\n",
       "    }\n",
       "</style>\n",
       "<table border=\"1\" class=\"dataframe\">\n",
       "  <thead>\n",
       "    <tr style=\"text-align: right;\">\n",
       "      <th></th>\n",
       "      <th>user_id</th>\n",
       "      <th>built</th>\n",
       "      <th>won</th>\n",
       "      <th>project</th>\n",
       "      <th>dt_min</th>\n",
       "      <th>dt_max</th>\n",
       "      <th>dt_delta</th>\n",
       "      <th>strategy</th>\n",
       "      <th>source</th>\n",
       "    </tr>\n",
       "  </thead>\n",
       "  <tbody>\n",
       "    <tr>\n",
       "      <th>13</th>\n",
       "      <td>006380d6-67a6-45de-ab1e-6eb54ad8dbe8</td>\n",
       "      <td>11</td>\n",
       "      <td>1</td>\n",
       "      <td>1</td>\n",
       "      <td>2020-05-04 16:43:39</td>\n",
       "      <td>2020-05-16 11:22:33</td>\n",
       "      <td>16958.9</td>\n",
       "      <td>2</td>\n",
       "      <td>youtube_channel_reklama</td>\n",
       "    </tr>\n",
       "  </tbody>\n",
       "</table>\n",
       "</div>"
      ],
      "text/plain": [
       "                                 user_id  built  won  project  \\\n",
       "13  006380d6-67a6-45de-ab1e-6eb54ad8dbe8     11    1        1   \n",
       "\n",
       "                dt_min              dt_max  dt_delta  strategy  \\\n",
       "13 2020-05-04 16:43:39 2020-05-16 11:22:33   16958.9         2   \n",
       "\n",
       "                     source  \n",
       "13  youtube_channel_reklama  "
      ]
     },
     "execution_count": 70,
     "metadata": {},
     "output_type": "execute_result"
    }
   ],
   "source": [
    "df_stategy2=df_2.query('strategy == 2')\n",
    "df_stategy2.head(1)"
   ]
  },
  {
   "cell_type": "code",
   "execution_count": 71,
   "id": "ceafeea4",
   "metadata": {},
   "outputs": [
    {
     "name": "stdout",
     "output_type": "stream",
     "text": [
      "p-значение: 7.256914637718452e-98\n",
      "Отвергаем нулевую гипотезу\n"
     ]
    }
   ],
   "source": [
    "alpha = 0.05\n",
    "\n",
    "results = stats.ttest_ind(\n",
    "    df_stategy2['dt_delta'],\n",
    "    df_stategy1['dt_delta'],\n",
    "    equal_var = True) \n",
    "\n",
    "print('p-значение:', results.pvalue)\n",
    "\n",
    "if (results.pvalue < alpha):\n",
    "    print(\"Отвергаем нулевую гипотезу\")\n",
    "else:\n",
    "    print(\"Не получилось отвергнуть нулевую гипотезу\")"
   ]
  },
  {
   "cell_type": "code",
   "execution_count": 72,
   "id": "4786280a",
   "metadata": {},
   "outputs": [
    {
     "data": {
      "text/plain": [
       "Ttest_indResult(statistic=21.4003747350921, pvalue=7.256914637718452e-98)"
      ]
     },
     "execution_count": 72,
     "metadata": {},
     "output_type": "execute_result"
    }
   ],
   "source": [
    "results"
   ]
  },
  {
   "cell_type": "markdown",
   "id": "d443ec29",
   "metadata": {},
   "source": [
    "6.2. Гипотеза 2  \n",
    "Нулевая гипотеза: Пользователи, привлеченные с яндекса, совершают больше построек, чем пользователи, привлеченные с фейсбук.\n",
    "Альтернативная гипотеза: Пользователи, привлеченные с яндекса, совершают меньше построек, чем пользователи, привлеченные с фейсбук."
   ]
  },
  {
   "cell_type": "code",
   "execution_count": 73,
   "id": "4507e0d7",
   "metadata": {},
   "outputs": [],
   "source": [
    "df_yandex=df_2.query('source == \"yandex_direct\"')\n",
    "df_facebook=df_2.query('source == \"facebook_ads\"')"
   ]
  },
  {
   "cell_type": "code",
   "execution_count": 74,
   "id": "a7058d3d",
   "metadata": {},
   "outputs": [
    {
     "name": "stdout",
     "output_type": "stream",
     "text": [
      "p-значение: 0.00523409830927393\n",
      "Отвергаем нулевую гипотезу\n",
      "Ttest_indResult(statistic=-2.5608239550584244, pvalue=0.01046819661854786)\n"
     ]
    }
   ],
   "source": [
    "alpha = 0.01\n",
    "\n",
    "results = stats.ttest_ind(\n",
    "    df_yandex['built'],\n",
    "    df_facebook['built'],\n",
    "    equal_var = False) \n",
    "#учтем односторонность теста\n",
    "print('p-значение:', results.pvalue /2 )\n",
    "\n",
    "if (results.pvalue / 2 < alpha):\n",
    "    print(\"Отвергаем нулевую гипотезу\")\n",
    "else:\n",
    "    print(\"Не получилось отвергнуть нулевую гипотезу\")\n",
    "    \n",
    "print(results)"
   ]
  },
  {
   "cell_type": "markdown",
   "id": "aa57806e",
   "metadata": {},
   "source": [
    "    Вывод:\n",
    "1. Гипотеза о равенстве времени прохождения пользователями уровня по стратегиям 1 и 2 неверна.\n",
    "2. Гипотеза, что пользователи, привлеченные с яндекса, строят больше, чем пользователи, привлеченные с фейсбук, неверна.\n"
   ]
  },
  {
   "cell_type": "markdown",
   "id": "9e616880",
   "metadata": {},
   "source": [
    "*Общие выводы*  \n",
    "1. Всего 13576 пользователей.Из них:\n",
    "по стратегии 1 - 3951  \n",
    "по стратегии 2 - 1866  \n",
    "по стратегии 3 - 7759  \n",
    "2. Построено:\n",
    "по стратегии 1 - 37185  \n",
    "по стратегии 2 - 23601  \n",
    "по стратегии 3 - 67170 \n",
    "3. Минимальное количество построек для прохождения уровня по стратегии 1 - 2 здания, по стратегии 2 - 10 зданий. При этом каждый пользователь построил хотя бы 1 здание.\n",
    "4. Медианное количество построек у пользователей по стратегии 2 - 12, по стратегии 1 - 10.\n",
    "5. Всего потрачено на рекламу: 7603,6. Из них:\n",
    "Фейсбук: 2141.0  \n",
    "Инстаграм:\t2161.5  \n",
    "Яндекс:\t2233.1  \n",
    "Ютуб:\t1068.0  \n",
    "6. Затраты на рекламу снижались на источники с одинаковой отрицательной динамикой.\n",
    "7. Количество построек на единицу затрат:  \n",
    "Яндекса - 2,9  \n",
    "Ютуба - 3,4  \n",
    "ФБ - 1,7  \n",
    "Инстаграм - 2,1  \n",
    "8. Гипотеза о равенстве времени прохождения пользователями уровня по стратегиям 1 и 2 неверна. \n",
    "9. Гипотеза, что пользователи, привлеченные с яндекса, строят больше, чем пользователи, привлеченные с фейсбук, неверна.\n",
    "\n",
    "Резюме.\n",
    "1. При планировании затрат нужно больше закладывать на Яндекс и Ютуб.\n",
    "2. При стратегии 1 количество построек в среднем меньше, чем при стратегии 2. Т.е. для компании выгоднее стратегия 2.\n",
    "Поскольку время по стратегии 1 меньше, чем по стратегии 2, можно увеличить уровень \"главного босса\", чтобы мотивировать пользователей идти по стратегии 2 для прохождения уровня.\n",
    "\n",
    "Яндекса - 2,9 и Ютуба - 3,4;\n",
    "у ФБ - 1,7 и Инстаграм - 2,1"
   ]
  },
  {
   "cell_type": "markdown",
   "id": "7bd4394e",
   "metadata": {},
   "source": [
    "***Ссылка на презентацию:*** https://drive.google.com/file/d/14tgW__BrZD9aNa2Nfsm3btONqX5o71GC/view?usp=share_link"
   ]
  },
  {
   "cell_type": "markdown",
   "id": "a85a7f5f",
   "metadata": {},
   "source": [
    "***Ссылка на дашборд:*** https://public.tableau.com/app/profile/alexander.chiz/viz/Final_project_16814956602690/Dashboard1?publish=yes"
   ]
  }
 ],
 "metadata": {
  "ExecuteTimeLog": [
   {
    "duration": 1426,
    "start_time": "2023-04-13T17:46:36.251Z"
   },
   {
    "duration": 779,
    "start_time": "2023-04-13T17:46:37.680Z"
   },
   {
    "duration": 13,
    "start_time": "2023-04-13T17:46:38.460Z"
   },
   {
    "duration": 8,
    "start_time": "2023-04-13T17:46:38.474Z"
   },
   {
    "duration": 29,
    "start_time": "2023-04-13T17:46:38.484Z"
   },
   {
    "duration": 59,
    "start_time": "2023-04-13T17:46:38.515Z"
   },
   {
    "duration": 67,
    "start_time": "2023-04-13T17:46:38.576Z"
   },
   {
    "duration": 4,
    "start_time": "2023-04-13T17:46:38.645Z"
   },
   {
    "duration": 11,
    "start_time": "2023-04-13T17:46:38.651Z"
   },
   {
    "duration": 27,
    "start_time": "2023-04-13T17:46:38.666Z"
   },
   {
    "duration": 67,
    "start_time": "2023-04-13T17:46:38.696Z"
   },
   {
    "duration": 152,
    "start_time": "2023-04-13T17:46:38.764Z"
   },
   {
    "duration": 11,
    "start_time": "2023-04-13T17:46:38.918Z"
   },
   {
    "duration": 34,
    "start_time": "2023-04-13T17:46:38.930Z"
   },
   {
    "duration": 52,
    "start_time": "2023-04-13T17:46:38.966Z"
   },
   {
    "duration": 30,
    "start_time": "2023-04-13T17:46:39.020Z"
   },
   {
    "duration": 15,
    "start_time": "2023-04-13T17:46:39.052Z"
   },
   {
    "duration": 52,
    "start_time": "2023-04-13T17:46:39.068Z"
   },
   {
    "duration": 10,
    "start_time": "2023-04-13T17:46:39.122Z"
   },
   {
    "duration": 50,
    "start_time": "2023-04-13T17:46:39.134Z"
   },
   {
    "duration": 59,
    "start_time": "2023-04-13T17:46:39.189Z"
   },
   {
    "duration": 8,
    "start_time": "2023-04-13T17:46:39.250Z"
   },
   {
    "duration": 25,
    "start_time": "2023-04-13T17:46:39.259Z"
   },
   {
    "duration": 20,
    "start_time": "2023-04-13T17:46:39.288Z"
   },
   {
    "duration": 7,
    "start_time": "2023-04-13T17:46:39.309Z"
   },
   {
    "duration": 210,
    "start_time": "2023-04-13T17:46:39.318Z"
   },
   {
    "duration": 16,
    "start_time": "2023-04-13T17:46:39.529Z"
   },
   {
    "duration": 19,
    "start_time": "2023-04-13T17:46:39.549Z"
   },
   {
    "duration": 351,
    "start_time": "2023-04-13T17:46:39.570Z"
   },
   {
    "duration": 315,
    "start_time": "2023-04-13T17:46:39.923Z"
   },
   {
    "duration": 18,
    "start_time": "2023-04-13T17:46:40.240Z"
   },
   {
    "duration": 507,
    "start_time": "2023-04-13T17:46:40.259Z"
   },
   {
    "duration": 16,
    "start_time": "2023-04-13T17:46:40.767Z"
   },
   {
    "duration": 14,
    "start_time": "2023-04-13T17:46:40.786Z"
   },
   {
    "duration": 14,
    "start_time": "2023-04-13T17:46:40.801Z"
   },
   {
    "duration": 392,
    "start_time": "2023-04-13T17:46:40.817Z"
   },
   {
    "duration": 12,
    "start_time": "2023-04-13T17:46:41.211Z"
   },
   {
    "duration": 16,
    "start_time": "2023-04-13T17:46:41.225Z"
   },
   {
    "duration": 74,
    "start_time": "2023-04-13T17:46:41.243Z"
   },
   {
    "duration": 371,
    "start_time": "2023-04-13T17:46:41.318Z"
   },
   {
    "duration": 230,
    "start_time": "2023-04-13T17:46:41.691Z"
   },
   {
    "duration": 11,
    "start_time": "2023-04-13T17:46:41.923Z"
   },
   {
    "duration": 415,
    "start_time": "2023-04-13T17:46:41.936Z"
   },
   {
    "duration": 6,
    "start_time": "2023-04-13T17:46:42.352Z"
   },
   {
    "duration": 21,
    "start_time": "2023-04-13T17:46:42.359Z"
   },
   {
    "duration": 64,
    "start_time": "2023-04-13T17:46:42.382Z"
   },
   {
    "duration": 13,
    "start_time": "2023-04-13T17:46:42.448Z"
   },
   {
    "duration": 17,
    "start_time": "2023-04-13T17:46:42.463Z"
   },
   {
    "duration": 29,
    "start_time": "2023-04-13T17:46:42.482Z"
   },
   {
    "duration": 21,
    "start_time": "2023-04-13T17:46:42.513Z"
   },
   {
    "duration": 21,
    "start_time": "2023-04-13T17:46:42.535Z"
   },
   {
    "duration": 277,
    "start_time": "2023-04-13T17:46:42.558Z"
   },
   {
    "duration": 15,
    "start_time": "2023-04-13T17:46:42.836Z"
   },
   {
    "duration": 284,
    "start_time": "2023-04-13T17:46:42.852Z"
   },
   {
    "duration": 13,
    "start_time": "2023-04-13T17:46:43.137Z"
   },
   {
    "duration": 17,
    "start_time": "2023-04-13T17:46:43.151Z"
   },
   {
    "duration": 15,
    "start_time": "2023-04-13T17:46:43.170Z"
   },
   {
    "duration": 23,
    "start_time": "2023-04-13T17:46:43.188Z"
   },
   {
    "duration": 17,
    "start_time": "2023-04-13T17:46:43.213Z"
   },
   {
    "duration": 5,
    "start_time": "2023-04-13T17:46:43.232Z"
   },
   {
    "duration": 126,
    "start_time": "2023-04-13T17:50:46.473Z"
   },
   {
    "duration": 87,
    "start_time": "2023-04-13T17:52:35.428Z"
   },
   {
    "duration": 314,
    "start_time": "2023-04-13T17:55:30.168Z"
   },
   {
    "duration": 146,
    "start_time": "2023-04-13T17:57:53.573Z"
   },
   {
    "duration": 104,
    "start_time": "2023-04-13T18:00:12.019Z"
   },
   {
    "duration": 419,
    "start_time": "2023-04-13T18:00:21.430Z"
   },
   {
    "duration": 312,
    "start_time": "2023-04-13T18:00:35.694Z"
   },
   {
    "duration": 311,
    "start_time": "2023-04-13T18:00:48.596Z"
   },
   {
    "duration": 287,
    "start_time": "2023-04-13T18:02:23.841Z"
   },
   {
    "duration": 292,
    "start_time": "2023-04-13T18:02:31.238Z"
   },
   {
    "duration": 233,
    "start_time": "2023-04-13T18:04:04.597Z"
   },
   {
    "duration": 11,
    "start_time": "2023-04-13T18:45:14.009Z"
   },
   {
    "duration": 103,
    "start_time": "2023-04-13T18:45:47.116Z"
   },
   {
    "duration": 11,
    "start_time": "2023-04-13T18:45:50.638Z"
   },
   {
    "duration": 23,
    "start_time": "2023-04-13T18:46:26.173Z"
   },
   {
    "duration": 30,
    "start_time": "2023-04-13T18:47:36.532Z"
   },
   {
    "duration": 17,
    "start_time": "2023-04-13T18:47:43.302Z"
   },
   {
    "duration": 35,
    "start_time": "2023-04-13T18:48:09.280Z"
   },
   {
    "duration": 14,
    "start_time": "2023-04-13T18:48:34.802Z"
   },
   {
    "duration": 10,
    "start_time": "2023-04-13T18:48:46.416Z"
   },
   {
    "duration": 12,
    "start_time": "2023-04-13T18:49:00.351Z"
   },
   {
    "duration": 46,
    "start_time": "2023-04-13T18:49:29.673Z"
   },
   {
    "duration": 31,
    "start_time": "2023-04-13T18:51:25.912Z"
   },
   {
    "duration": 41,
    "start_time": "2023-04-13T18:51:35.281Z"
   },
   {
    "duration": 389,
    "start_time": "2023-04-13T18:52:25.478Z"
   },
   {
    "duration": 100,
    "start_time": "2023-04-13T18:52:55.593Z"
   },
   {
    "duration": 36,
    "start_time": "2023-04-13T18:53:01.205Z"
   },
   {
    "duration": 847,
    "start_time": "2023-04-13T18:53:27.277Z"
   },
   {
    "duration": 34,
    "start_time": "2023-04-13T18:53:34.104Z"
   },
   {
    "duration": 38,
    "start_time": "2023-04-13T18:53:44.577Z"
   },
   {
    "duration": 70,
    "start_time": "2023-04-13T18:55:04.970Z"
   },
   {
    "duration": 68,
    "start_time": "2023-04-13T18:55:43.725Z"
   },
   {
    "duration": 60,
    "start_time": "2023-04-13T18:55:53.628Z"
   },
   {
    "duration": 6,
    "start_time": "2023-04-13T18:58:11.895Z"
   },
   {
    "duration": 5,
    "start_time": "2023-04-13T18:58:31.049Z"
   },
   {
    "duration": 5,
    "start_time": "2023-04-13T18:58:59.003Z"
   },
   {
    "duration": 20,
    "start_time": "2023-04-13T18:59:21.579Z"
   },
   {
    "duration": 11,
    "start_time": "2023-04-13T18:59:35.948Z"
   },
   {
    "duration": 14,
    "start_time": "2023-04-13T19:01:03.819Z"
   },
   {
    "duration": 12,
    "start_time": "2023-04-13T19:03:05.602Z"
   },
   {
    "duration": 19,
    "start_time": "2023-04-13T19:03:42.577Z"
   },
   {
    "duration": 6,
    "start_time": "2023-04-13T19:05:43.431Z"
   },
   {
    "duration": 6,
    "start_time": "2023-04-13T19:05:45.616Z"
   },
   {
    "duration": 12,
    "start_time": "2023-04-13T19:05:48.887Z"
   },
   {
    "duration": 21,
    "start_time": "2023-04-13T19:06:00.579Z"
   },
   {
    "duration": 13,
    "start_time": "2023-04-13T19:08:05.539Z"
   },
   {
    "duration": 238,
    "start_time": "2023-04-13T19:08:34.140Z"
   },
   {
    "duration": 319,
    "start_time": "2023-04-13T19:10:58.048Z"
   },
   {
    "duration": 17,
    "start_time": "2023-04-13T19:12:02.883Z"
   },
   {
    "duration": 13,
    "start_time": "2023-04-13T19:12:07.683Z"
   },
   {
    "duration": 257,
    "start_time": "2023-04-13T19:12:23.784Z"
   },
   {
    "duration": 8,
    "start_time": "2023-04-13T19:18:32.651Z"
   },
   {
    "duration": 7,
    "start_time": "2023-04-13T19:19:08.399Z"
   },
   {
    "duration": 28,
    "start_time": "2023-04-13T19:20:52.455Z"
   },
   {
    "duration": 22,
    "start_time": "2023-04-13T19:20:58.851Z"
   },
   {
    "duration": 21,
    "start_time": "2023-04-13T19:21:01.078Z"
   },
   {
    "duration": 30,
    "start_time": "2023-04-13T19:25:49.589Z"
   },
   {
    "duration": 26,
    "start_time": "2023-04-13T19:27:10.803Z"
   },
   {
    "duration": 9,
    "start_time": "2023-04-13T19:27:47.408Z"
   },
   {
    "duration": 134,
    "start_time": "2023-04-13T19:30:50.497Z"
   },
   {
    "duration": 124,
    "start_time": "2023-04-13T19:30:58.334Z"
   }
  ],
  "kernelspec": {
   "display_name": "Python 3 (ipykernel)",
   "language": "python",
   "name": "python3"
  },
  "language_info": {
   "codemirror_mode": {
    "name": "ipython",
    "version": 3
   },
   "file_extension": ".py",
   "mimetype": "text/x-python",
   "name": "python",
   "nbconvert_exporter": "python",
   "pygments_lexer": "ipython3",
   "version": "3.9.12"
  },
  "toc": {
   "base_numbering": 1,
   "nav_menu": {},
   "number_sections": false,
   "sideBar": false,
   "skip_h1_title": false,
   "title_cell": "Table of Contents",
   "title_sidebar": "Contents",
   "toc_cell": false,
   "toc_position": {
    "height": "calc(100% - 180px)",
    "left": "10px",
    "top": "150px",
    "width": "165px"
   },
   "toc_section_display": true,
   "toc_window_display": false
  },
  "widgets": {
   "application/vnd.jupyter.widget-state+json": {
    "state": {},
    "version_major": 2,
    "version_minor": 0
   }
  }
 },
 "nbformat": 4,
 "nbformat_minor": 5
}
